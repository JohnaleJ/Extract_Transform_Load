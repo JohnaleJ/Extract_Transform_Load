{
 "metadata": {
  "language_info": {
   "codemirror_mode": {
    "name": "ipython",
    "version": 3
   },
   "file_extension": ".py",
   "mimetype": "text/x-python",
   "name": "python",
   "nbconvert_exporter": "python",
   "pygments_lexer": "ipython3",
   "version": "3.8.5"
  },
  "orig_nbformat": 2,
  "kernelspec": {
   "name": "python385jvsc74a57bd07dee54ed7ad46e2e610ac5d1f2b33a2e646d3f5b285777520e9e1603f976399c",
   "display_name": "Python 3.8.5 64-bit (conda)"
  }
 },
 "nbformat": 4,
 "nbformat_minor": 2,
 "cells": [
  {
   "cell_type": "code",
   "execution_count": 93,
   "metadata": {},
   "outputs": [],
   "source": [
    "# import library\n",
    "import pandas as pd\n",
    "import numpy as np\n",
    "from sqlalchemy import create_engine"
   ]
  },
  {
   "source": [
    "# Importing the source data"
   ],
   "cell_type": "markdown",
   "metadata": {}
  },
  {
   "cell_type": "code",
   "execution_count": 94,
   "metadata": {},
   "outputs": [],
   "source": [
    "suicide_file = 'master.csv'\n",
    "df=pd.read_csv(suicide_file)"
   ]
  },
  {
   "cell_type": "code",
   "execution_count": 95,
   "metadata": {},
   "outputs": [
    {
     "output_type": "execute_result",
     "data": {
      "text/plain": [
       "   country  year     sex          age  suicides_no  population  \\\n",
       "0  Albania  1987    male  15-24 years           21      312900   \n",
       "1  Albania  1987    male  35-54 years           16      308000   \n",
       "2  Albania  1987  female  15-24 years           14      289700   \n",
       "3  Albania  1987    male    75+ years            1       21800   \n",
       "4  Albania  1987    male  25-34 years            9      274300   \n",
       "\n",
       "   suicides/100k pop country-year  HDI for year  gdp_for_year ($)   \\\n",
       "0               6.71  Albania1987           NaN      2,156,624,900   \n",
       "1               5.19  Albania1987           NaN      2,156,624,900   \n",
       "2               4.83  Albania1987           NaN      2,156,624,900   \n",
       "3               4.59  Albania1987           NaN      2,156,624,900   \n",
       "4               3.28  Albania1987           NaN      2,156,624,900   \n",
       "\n",
       "   gdp_per_capita ($)       generation  \n",
       "0                 796     Generation X  \n",
       "1                 796           Silent  \n",
       "2                 796     Generation X  \n",
       "3                 796  G.I. Generation  \n",
       "4                 796          Boomers  "
      ],
      "text/html": "<div>\n<style scoped>\n    .dataframe tbody tr th:only-of-type {\n        vertical-align: middle;\n    }\n\n    .dataframe tbody tr th {\n        vertical-align: top;\n    }\n\n    .dataframe thead th {\n        text-align: right;\n    }\n</style>\n<table border=\"1\" class=\"dataframe\">\n  <thead>\n    <tr style=\"text-align: right;\">\n      <th></th>\n      <th>country</th>\n      <th>year</th>\n      <th>sex</th>\n      <th>age</th>\n      <th>suicides_no</th>\n      <th>population</th>\n      <th>suicides/100k pop</th>\n      <th>country-year</th>\n      <th>HDI for year</th>\n      <th>gdp_for_year ($)</th>\n      <th>gdp_per_capita ($)</th>\n      <th>generation</th>\n    </tr>\n  </thead>\n  <tbody>\n    <tr>\n      <th>0</th>\n      <td>Albania</td>\n      <td>1987</td>\n      <td>male</td>\n      <td>15-24 years</td>\n      <td>21</td>\n      <td>312900</td>\n      <td>6.71</td>\n      <td>Albania1987</td>\n      <td>NaN</td>\n      <td>2,156,624,900</td>\n      <td>796</td>\n      <td>Generation X</td>\n    </tr>\n    <tr>\n      <th>1</th>\n      <td>Albania</td>\n      <td>1987</td>\n      <td>male</td>\n      <td>35-54 years</td>\n      <td>16</td>\n      <td>308000</td>\n      <td>5.19</td>\n      <td>Albania1987</td>\n      <td>NaN</td>\n      <td>2,156,624,900</td>\n      <td>796</td>\n      <td>Silent</td>\n    </tr>\n    <tr>\n      <th>2</th>\n      <td>Albania</td>\n      <td>1987</td>\n      <td>female</td>\n      <td>15-24 years</td>\n      <td>14</td>\n      <td>289700</td>\n      <td>4.83</td>\n      <td>Albania1987</td>\n      <td>NaN</td>\n      <td>2,156,624,900</td>\n      <td>796</td>\n      <td>Generation X</td>\n    </tr>\n    <tr>\n      <th>3</th>\n      <td>Albania</td>\n      <td>1987</td>\n      <td>male</td>\n      <td>75+ years</td>\n      <td>1</td>\n      <td>21800</td>\n      <td>4.59</td>\n      <td>Albania1987</td>\n      <td>NaN</td>\n      <td>2,156,624,900</td>\n      <td>796</td>\n      <td>G.I. Generation</td>\n    </tr>\n    <tr>\n      <th>4</th>\n      <td>Albania</td>\n      <td>1987</td>\n      <td>male</td>\n      <td>25-34 years</td>\n      <td>9</td>\n      <td>274300</td>\n      <td>3.28</td>\n      <td>Albania1987</td>\n      <td>NaN</td>\n      <td>2,156,624,900</td>\n      <td>796</td>\n      <td>Boomers</td>\n    </tr>\n  </tbody>\n</table>\n</div>"
     },
     "metadata": {},
     "execution_count": 95
    }
   ],
   "source": [
    "df.head()"
   ]
  },
  {
   "cell_type": "code",
   "execution_count": 96,
   "metadata": {},
   "outputs": [
    {
     "output_type": "execute_result",
     "data": {
      "text/plain": [
       "     country  year     sex          age  suicides_no  population  \\\n",
       "132  Albania  2000    male  25-34 years           17      232000   \n",
       "133  Albania  2000    male  55-74 years           10      177400   \n",
       "134  Albania  2000  female    75+ years            2       37800   \n",
       "135  Albania  2000    male    75+ years            1       24900   \n",
       "136  Albania  2000  female  15-24 years            6      263900   \n",
       "\n",
       "     suicides/100k pop  gdp_for_year ($)   gdp_per_capita ($)       generation  \n",
       "132               7.33      3,632,043,908                1299     Generation X  \n",
       "133               5.64      3,632,043,908                1299           Silent  \n",
       "134               5.29      3,632,043,908                1299  G.I. Generation  \n",
       "135               4.02      3,632,043,908                1299  G.I. Generation  \n",
       "136               2.27      3,632,043,908                1299     Generation X  "
      ],
      "text/html": "<div>\n<style scoped>\n    .dataframe tbody tr th:only-of-type {\n        vertical-align: middle;\n    }\n\n    .dataframe tbody tr th {\n        vertical-align: top;\n    }\n\n    .dataframe thead th {\n        text-align: right;\n    }\n</style>\n<table border=\"1\" class=\"dataframe\">\n  <thead>\n    <tr style=\"text-align: right;\">\n      <th></th>\n      <th>country</th>\n      <th>year</th>\n      <th>sex</th>\n      <th>age</th>\n      <th>suicides_no</th>\n      <th>population</th>\n      <th>suicides/100k pop</th>\n      <th>gdp_for_year ($)</th>\n      <th>gdp_per_capita ($)</th>\n      <th>generation</th>\n    </tr>\n  </thead>\n  <tbody>\n    <tr>\n      <th>132</th>\n      <td>Albania</td>\n      <td>2000</td>\n      <td>male</td>\n      <td>25-34 years</td>\n      <td>17</td>\n      <td>232000</td>\n      <td>7.33</td>\n      <td>3,632,043,908</td>\n      <td>1299</td>\n      <td>Generation X</td>\n    </tr>\n    <tr>\n      <th>133</th>\n      <td>Albania</td>\n      <td>2000</td>\n      <td>male</td>\n      <td>55-74 years</td>\n      <td>10</td>\n      <td>177400</td>\n      <td>5.64</td>\n      <td>3,632,043,908</td>\n      <td>1299</td>\n      <td>Silent</td>\n    </tr>\n    <tr>\n      <th>134</th>\n      <td>Albania</td>\n      <td>2000</td>\n      <td>female</td>\n      <td>75+ years</td>\n      <td>2</td>\n      <td>37800</td>\n      <td>5.29</td>\n      <td>3,632,043,908</td>\n      <td>1299</td>\n      <td>G.I. Generation</td>\n    </tr>\n    <tr>\n      <th>135</th>\n      <td>Albania</td>\n      <td>2000</td>\n      <td>male</td>\n      <td>75+ years</td>\n      <td>1</td>\n      <td>24900</td>\n      <td>4.02</td>\n      <td>3,632,043,908</td>\n      <td>1299</td>\n      <td>G.I. Generation</td>\n    </tr>\n    <tr>\n      <th>136</th>\n      <td>Albania</td>\n      <td>2000</td>\n      <td>female</td>\n      <td>15-24 years</td>\n      <td>6</td>\n      <td>263900</td>\n      <td>2.27</td>\n      <td>3,632,043,908</td>\n      <td>1299</td>\n      <td>Generation X</td>\n    </tr>\n  </tbody>\n</table>\n</div>"
     },
     "metadata": {},
     "execution_count": 96
    }
   ],
   "source": [
    "# Drop column country-year\n",
    "df.drop(columns='country-year', inplace=True)\n",
    "# Drop column HDI for year\n",
    "df.drop(columns='HDI for year', inplace=True)\n",
    "# Drop null values\n",
    "df.dropna(how='any', inplace=True)\n",
    "# Drop or filter the rows to only include years 2000 through 2015 (referenced https://stackoverflow.com/questions/13851535/how-to-delete-rows-from-a-pandas-dataframe-based-on-a-conditional-expression)\n",
    "df.drop(df[(df.year < 2000) | (df.year > 2015)].index, inplace=True)\n",
    "# check the dataframe structure\n",
    "df.head()\n",
    "\n"
   ]
  },
  {
   "cell_type": "code",
   "execution_count": 97,
   "metadata": {},
   "outputs": [
    {
     "output_type": "execute_result",
     "data": {
      "text/plain": [
       "(16008, 10)"
      ]
     },
     "metadata": {},
     "execution_count": 97
    }
   ],
   "source": [
    "df.shape\n"
   ]
  },
  {
   "source": [
    "# write dataframe to a new csv\n"
   ],
   "cell_type": "markdown",
   "metadata": {}
  },
  {
   "cell_type": "code",
   "execution_count": 101,
   "metadata": {},
   "outputs": [],
   "source": [
    "df.to_csv('suicide_clean.csv', index=False)"
   ]
  },
  {
   "cell_type": "code",
   "execution_count": 107,
   "metadata": {},
   "outputs": [
    {
     "output_type": "execute_result",
     "data": {
      "text/plain": [
       "          country  year     sex          age  suicides_no  population  \\\n",
       "132       Albania  2000    male  25-34 years           17      232000   \n",
       "133       Albania  2000    male  55-74 years           10      177400   \n",
       "134       Albania  2000  female    75+ years            2       37800   \n",
       "135       Albania  2000    male    75+ years            1       24900   \n",
       "136       Albania  2000  female  15-24 years            6      263900   \n",
       "...           ...   ...     ...          ...          ...         ...   \n",
       "27815  Uzbekistan  2014  female  35-54 years          107     3620833   \n",
       "27816  Uzbekistan  2014  female    75+ years            9      348465   \n",
       "27817  Uzbekistan  2014    male   5-14 years           60     2762158   \n",
       "27818  Uzbekistan  2014  female   5-14 years           44     2631600   \n",
       "27819  Uzbekistan  2014  female  55-74 years           21     1438935   \n",
       "\n",
       "       suicides/100k pop  gdp_for_year ($)   gdp_per_capita ($)  \\\n",
       "132                 7.33      3,632,043,908                1299   \n",
       "133                 5.64      3,632,043,908                1299   \n",
       "134                 5.29      3,632,043,908                1299   \n",
       "135                 4.02      3,632,043,908                1299   \n",
       "136                 2.27      3,632,043,908                1299   \n",
       "...                  ...                ...                 ...   \n",
       "27815               2.96     63,067,077,179                2309   \n",
       "27816               2.58     63,067,077,179                2309   \n",
       "27817               2.17     63,067,077,179                2309   \n",
       "27818               1.67     63,067,077,179                2309   \n",
       "27819               1.46     63,067,077,179                2309   \n",
       "\n",
       "            generation  \n",
       "132       Generation X  \n",
       "133             Silent  \n",
       "134    G.I. Generation  \n",
       "135    G.I. Generation  \n",
       "136       Generation X  \n",
       "...                ...  \n",
       "27815     Generation X  \n",
       "27816           Silent  \n",
       "27817     Generation Z  \n",
       "27818     Generation Z  \n",
       "27819          Boomers  \n",
       "\n",
       "[16008 rows x 10 columns]"
      ],
      "text/html": "<div>\n<style scoped>\n    .dataframe tbody tr th:only-of-type {\n        vertical-align: middle;\n    }\n\n    .dataframe tbody tr th {\n        vertical-align: top;\n    }\n\n    .dataframe thead th {\n        text-align: right;\n    }\n</style>\n<table border=\"1\" class=\"dataframe\">\n  <thead>\n    <tr style=\"text-align: right;\">\n      <th></th>\n      <th>country</th>\n      <th>year</th>\n      <th>sex</th>\n      <th>age</th>\n      <th>suicides_no</th>\n      <th>population</th>\n      <th>suicides/100k pop</th>\n      <th>gdp_for_year ($)</th>\n      <th>gdp_per_capita ($)</th>\n      <th>generation</th>\n    </tr>\n  </thead>\n  <tbody>\n    <tr>\n      <th>132</th>\n      <td>Albania</td>\n      <td>2000</td>\n      <td>male</td>\n      <td>25-34 years</td>\n      <td>17</td>\n      <td>232000</td>\n      <td>7.33</td>\n      <td>3,632,043,908</td>\n      <td>1299</td>\n      <td>Generation X</td>\n    </tr>\n    <tr>\n      <th>133</th>\n      <td>Albania</td>\n      <td>2000</td>\n      <td>male</td>\n      <td>55-74 years</td>\n      <td>10</td>\n      <td>177400</td>\n      <td>5.64</td>\n      <td>3,632,043,908</td>\n      <td>1299</td>\n      <td>Silent</td>\n    </tr>\n    <tr>\n      <th>134</th>\n      <td>Albania</td>\n      <td>2000</td>\n      <td>female</td>\n      <td>75+ years</td>\n      <td>2</td>\n      <td>37800</td>\n      <td>5.29</td>\n      <td>3,632,043,908</td>\n      <td>1299</td>\n      <td>G.I. Generation</td>\n    </tr>\n    <tr>\n      <th>135</th>\n      <td>Albania</td>\n      <td>2000</td>\n      <td>male</td>\n      <td>75+ years</td>\n      <td>1</td>\n      <td>24900</td>\n      <td>4.02</td>\n      <td>3,632,043,908</td>\n      <td>1299</td>\n      <td>G.I. Generation</td>\n    </tr>\n    <tr>\n      <th>136</th>\n      <td>Albania</td>\n      <td>2000</td>\n      <td>female</td>\n      <td>15-24 years</td>\n      <td>6</td>\n      <td>263900</td>\n      <td>2.27</td>\n      <td>3,632,043,908</td>\n      <td>1299</td>\n      <td>Generation X</td>\n    </tr>\n    <tr>\n      <th>...</th>\n      <td>...</td>\n      <td>...</td>\n      <td>...</td>\n      <td>...</td>\n      <td>...</td>\n      <td>...</td>\n      <td>...</td>\n      <td>...</td>\n      <td>...</td>\n      <td>...</td>\n    </tr>\n    <tr>\n      <th>27815</th>\n      <td>Uzbekistan</td>\n      <td>2014</td>\n      <td>female</td>\n      <td>35-54 years</td>\n      <td>107</td>\n      <td>3620833</td>\n      <td>2.96</td>\n      <td>63,067,077,179</td>\n      <td>2309</td>\n      <td>Generation X</td>\n    </tr>\n    <tr>\n      <th>27816</th>\n      <td>Uzbekistan</td>\n      <td>2014</td>\n      <td>female</td>\n      <td>75+ years</td>\n      <td>9</td>\n      <td>348465</td>\n      <td>2.58</td>\n      <td>63,067,077,179</td>\n      <td>2309</td>\n      <td>Silent</td>\n    </tr>\n    <tr>\n      <th>27817</th>\n      <td>Uzbekistan</td>\n      <td>2014</td>\n      <td>male</td>\n      <td>5-14 years</td>\n      <td>60</td>\n      <td>2762158</td>\n      <td>2.17</td>\n      <td>63,067,077,179</td>\n      <td>2309</td>\n      <td>Generation Z</td>\n    </tr>\n    <tr>\n      <th>27818</th>\n      <td>Uzbekistan</td>\n      <td>2014</td>\n      <td>female</td>\n      <td>5-14 years</td>\n      <td>44</td>\n      <td>2631600</td>\n      <td>1.67</td>\n      <td>63,067,077,179</td>\n      <td>2309</td>\n      <td>Generation Z</td>\n    </tr>\n    <tr>\n      <th>27819</th>\n      <td>Uzbekistan</td>\n      <td>2014</td>\n      <td>female</td>\n      <td>55-74 years</td>\n      <td>21</td>\n      <td>1438935</td>\n      <td>1.46</td>\n      <td>63,067,077,179</td>\n      <td>2309</td>\n      <td>Boomers</td>\n    </tr>\n  </tbody>\n</table>\n<p>16008 rows × 10 columns</p>\n</div>"
     },
     "metadata": {},
     "execution_count": 107
    }
   ],
   "source": [
    "# creating a new table by copying the original dataframe\n",
    "suicide_df=df.copy()\n",
    "suicide_df"
   ]
  },
  {
   "cell_type": "code",
   "execution_count": 108,
   "metadata": {},
   "outputs": [
    {
     "output_type": "execute_result",
     "data": {
      "text/plain": [
       "country                object\n",
       "year                    int64\n",
       "sex                    object\n",
       "age                    object\n",
       "suicides_no             int64\n",
       "population              int64\n",
       "suicides/100k pop     float64\n",
       " gdp_for_year ($)      object\n",
       "gdp_per_capita ($)      int64\n",
       "generation             object\n",
       "dtype: object"
      ]
     },
     "metadata": {},
     "execution_count": 108
    }
   ],
   "source": [
    "# checking column names and data types\n",
    "suicide_df.dtypes"
   ]
  },
  {
   "cell_type": "code",
   "execution_count": 113,
   "metadata": {},
   "outputs": [
    {
     "output_type": "execute_result",
     "data": {
      "text/plain": [
       "          country  year     sex          age  suicides_no  suicides/100k pop  \\\n",
       "132       Albania  2000    male  25-34 years           17               7.33   \n",
       "133       Albania  2000    male  55-74 years           10               5.64   \n",
       "134       Albania  2000  female    75+ years            2               5.29   \n",
       "135       Albania  2000    male    75+ years            1               4.02   \n",
       "136       Albania  2000  female  15-24 years            6               2.27   \n",
       "...           ...   ...     ...          ...          ...                ...   \n",
       "27815  Uzbekistan  2014  female  35-54 years          107               2.96   \n",
       "27816  Uzbekistan  2014  female    75+ years            9               2.58   \n",
       "27817  Uzbekistan  2014    male   5-14 years           60               2.17   \n",
       "27818  Uzbekistan  2014  female   5-14 years           44               1.67   \n",
       "27819  Uzbekistan  2014  female  55-74 years           21               1.46   \n",
       "\n",
       "            generation  \n",
       "132       Generation X  \n",
       "133             Silent  \n",
       "134    G.I. Generation  \n",
       "135    G.I. Generation  \n",
       "136       Generation X  \n",
       "...                ...  \n",
       "27815     Generation X  \n",
       "27816           Silent  \n",
       "27817     Generation Z  \n",
       "27818     Generation Z  \n",
       "27819          Boomers  \n",
       "\n",
       "[16008 rows x 7 columns]"
      ],
      "text/html": "<div>\n<style scoped>\n    .dataframe tbody tr th:only-of-type {\n        vertical-align: middle;\n    }\n\n    .dataframe tbody tr th {\n        vertical-align: top;\n    }\n\n    .dataframe thead th {\n        text-align: right;\n    }\n</style>\n<table border=\"1\" class=\"dataframe\">\n  <thead>\n    <tr style=\"text-align: right;\">\n      <th></th>\n      <th>country</th>\n      <th>year</th>\n      <th>sex</th>\n      <th>age</th>\n      <th>suicides_no</th>\n      <th>suicides/100k pop</th>\n      <th>generation</th>\n    </tr>\n  </thead>\n  <tbody>\n    <tr>\n      <th>132</th>\n      <td>Albania</td>\n      <td>2000</td>\n      <td>male</td>\n      <td>25-34 years</td>\n      <td>17</td>\n      <td>7.33</td>\n      <td>Generation X</td>\n    </tr>\n    <tr>\n      <th>133</th>\n      <td>Albania</td>\n      <td>2000</td>\n      <td>male</td>\n      <td>55-74 years</td>\n      <td>10</td>\n      <td>5.64</td>\n      <td>Silent</td>\n    </tr>\n    <tr>\n      <th>134</th>\n      <td>Albania</td>\n      <td>2000</td>\n      <td>female</td>\n      <td>75+ years</td>\n      <td>2</td>\n      <td>5.29</td>\n      <td>G.I. Generation</td>\n    </tr>\n    <tr>\n      <th>135</th>\n      <td>Albania</td>\n      <td>2000</td>\n      <td>male</td>\n      <td>75+ years</td>\n      <td>1</td>\n      <td>4.02</td>\n      <td>G.I. Generation</td>\n    </tr>\n    <tr>\n      <th>136</th>\n      <td>Albania</td>\n      <td>2000</td>\n      <td>female</td>\n      <td>15-24 years</td>\n      <td>6</td>\n      <td>2.27</td>\n      <td>Generation X</td>\n    </tr>\n    <tr>\n      <th>...</th>\n      <td>...</td>\n      <td>...</td>\n      <td>...</td>\n      <td>...</td>\n      <td>...</td>\n      <td>...</td>\n      <td>...</td>\n    </tr>\n    <tr>\n      <th>27815</th>\n      <td>Uzbekistan</td>\n      <td>2014</td>\n      <td>female</td>\n      <td>35-54 years</td>\n      <td>107</td>\n      <td>2.96</td>\n      <td>Generation X</td>\n    </tr>\n    <tr>\n      <th>27816</th>\n      <td>Uzbekistan</td>\n      <td>2014</td>\n      <td>female</td>\n      <td>75+ years</td>\n      <td>9</td>\n      <td>2.58</td>\n      <td>Silent</td>\n    </tr>\n    <tr>\n      <th>27817</th>\n      <td>Uzbekistan</td>\n      <td>2014</td>\n      <td>male</td>\n      <td>5-14 years</td>\n      <td>60</td>\n      <td>2.17</td>\n      <td>Generation Z</td>\n    </tr>\n    <tr>\n      <th>27818</th>\n      <td>Uzbekistan</td>\n      <td>2014</td>\n      <td>female</td>\n      <td>5-14 years</td>\n      <td>44</td>\n      <td>1.67</td>\n      <td>Generation Z</td>\n    </tr>\n    <tr>\n      <th>27819</th>\n      <td>Uzbekistan</td>\n      <td>2014</td>\n      <td>female</td>\n      <td>55-74 years</td>\n      <td>21</td>\n      <td>1.46</td>\n      <td>Boomers</td>\n    </tr>\n  </tbody>\n</table>\n<p>16008 rows × 7 columns</p>\n</div>"
     },
     "metadata": {},
     "execution_count": 113
    }
   ],
   "source": [
    "# dropping all non-varying data\n",
    "suicide_df.drop(columns=' gdp_for_year ($) '  , inplace=True)\n",
    "suicide_df.drop(columns='gdp_per_capita ($)', inplace=True)\n",
    "suicide_df.drop(columns='population', inplace=True)\n",
    "suicide_df"
   ]
  },
  {
   "cell_type": "code",
   "execution_count": 123,
   "metadata": {},
   "outputs": [],
   "source": [
    "suicide_df.to_csv('suicide_table.csv', index=False)"
   ]
  },
  {
   "cell_type": "code",
   "execution_count": 120,
   "metadata": {},
   "outputs": [
    {
     "output_type": "execute_result",
     "data": {
      "text/plain": [
       "          country  year     sex          age  suicides_no  population  \\\n",
       "132       Albania  2000    male  25-34 years           17      232000   \n",
       "133       Albania  2000    male  55-74 years           10      177400   \n",
       "134       Albania  2000  female    75+ years            2       37800   \n",
       "135       Albania  2000    male    75+ years            1       24900   \n",
       "136       Albania  2000  female  15-24 years            6      263900   \n",
       "...           ...   ...     ...          ...          ...         ...   \n",
       "27815  Uzbekistan  2014  female  35-54 years          107     3620833   \n",
       "27816  Uzbekistan  2014  female    75+ years            9      348465   \n",
       "27817  Uzbekistan  2014    male   5-14 years           60     2762158   \n",
       "27818  Uzbekistan  2014  female   5-14 years           44     2631600   \n",
       "27819  Uzbekistan  2014  female  55-74 years           21     1438935   \n",
       "\n",
       "       suicides/100k pop  gdp_for_year ($)   gdp_per_capita ($)  \\\n",
       "132                 7.33      3,632,043,908                1299   \n",
       "133                 5.64      3,632,043,908                1299   \n",
       "134                 5.29      3,632,043,908                1299   \n",
       "135                 4.02      3,632,043,908                1299   \n",
       "136                 2.27      3,632,043,908                1299   \n",
       "...                  ...                ...                 ...   \n",
       "27815               2.96     63,067,077,179                2309   \n",
       "27816               2.58     63,067,077,179                2309   \n",
       "27817               2.17     63,067,077,179                2309   \n",
       "27818               1.67     63,067,077,179                2309   \n",
       "27819               1.46     63,067,077,179                2309   \n",
       "\n",
       "            generation  \n",
       "132       Generation X  \n",
       "133             Silent  \n",
       "134    G.I. Generation  \n",
       "135    G.I. Generation  \n",
       "136       Generation X  \n",
       "...                ...  \n",
       "27815     Generation X  \n",
       "27816           Silent  \n",
       "27817     Generation Z  \n",
       "27818     Generation Z  \n",
       "27819          Boomers  \n",
       "\n",
       "[16008 rows x 10 columns]"
      ],
      "text/html": "<div>\n<style scoped>\n    .dataframe tbody tr th:only-of-type {\n        vertical-align: middle;\n    }\n\n    .dataframe tbody tr th {\n        vertical-align: top;\n    }\n\n    .dataframe thead th {\n        text-align: right;\n    }\n</style>\n<table border=\"1\" class=\"dataframe\">\n  <thead>\n    <tr style=\"text-align: right;\">\n      <th></th>\n      <th>country</th>\n      <th>year</th>\n      <th>sex</th>\n      <th>age</th>\n      <th>suicides_no</th>\n      <th>population</th>\n      <th>suicides/100k pop</th>\n      <th>gdp_for_year ($)</th>\n      <th>gdp_per_capita ($)</th>\n      <th>generation</th>\n    </tr>\n  </thead>\n  <tbody>\n    <tr>\n      <th>132</th>\n      <td>Albania</td>\n      <td>2000</td>\n      <td>male</td>\n      <td>25-34 years</td>\n      <td>17</td>\n      <td>232000</td>\n      <td>7.33</td>\n      <td>3,632,043,908</td>\n      <td>1299</td>\n      <td>Generation X</td>\n    </tr>\n    <tr>\n      <th>133</th>\n      <td>Albania</td>\n      <td>2000</td>\n      <td>male</td>\n      <td>55-74 years</td>\n      <td>10</td>\n      <td>177400</td>\n      <td>5.64</td>\n      <td>3,632,043,908</td>\n      <td>1299</td>\n      <td>Silent</td>\n    </tr>\n    <tr>\n      <th>134</th>\n      <td>Albania</td>\n      <td>2000</td>\n      <td>female</td>\n      <td>75+ years</td>\n      <td>2</td>\n      <td>37800</td>\n      <td>5.29</td>\n      <td>3,632,043,908</td>\n      <td>1299</td>\n      <td>G.I. Generation</td>\n    </tr>\n    <tr>\n      <th>135</th>\n      <td>Albania</td>\n      <td>2000</td>\n      <td>male</td>\n      <td>75+ years</td>\n      <td>1</td>\n      <td>24900</td>\n      <td>4.02</td>\n      <td>3,632,043,908</td>\n      <td>1299</td>\n      <td>G.I. Generation</td>\n    </tr>\n    <tr>\n      <th>136</th>\n      <td>Albania</td>\n      <td>2000</td>\n      <td>female</td>\n      <td>15-24 years</td>\n      <td>6</td>\n      <td>263900</td>\n      <td>2.27</td>\n      <td>3,632,043,908</td>\n      <td>1299</td>\n      <td>Generation X</td>\n    </tr>\n    <tr>\n      <th>...</th>\n      <td>...</td>\n      <td>...</td>\n      <td>...</td>\n      <td>...</td>\n      <td>...</td>\n      <td>...</td>\n      <td>...</td>\n      <td>...</td>\n      <td>...</td>\n      <td>...</td>\n    </tr>\n    <tr>\n      <th>27815</th>\n      <td>Uzbekistan</td>\n      <td>2014</td>\n      <td>female</td>\n      <td>35-54 years</td>\n      <td>107</td>\n      <td>3620833</td>\n      <td>2.96</td>\n      <td>63,067,077,179</td>\n      <td>2309</td>\n      <td>Generation X</td>\n    </tr>\n    <tr>\n      <th>27816</th>\n      <td>Uzbekistan</td>\n      <td>2014</td>\n      <td>female</td>\n      <td>75+ years</td>\n      <td>9</td>\n      <td>348465</td>\n      <td>2.58</td>\n      <td>63,067,077,179</td>\n      <td>2309</td>\n      <td>Silent</td>\n    </tr>\n    <tr>\n      <th>27817</th>\n      <td>Uzbekistan</td>\n      <td>2014</td>\n      <td>male</td>\n      <td>5-14 years</td>\n      <td>60</td>\n      <td>2762158</td>\n      <td>2.17</td>\n      <td>63,067,077,179</td>\n      <td>2309</td>\n      <td>Generation Z</td>\n    </tr>\n    <tr>\n      <th>27818</th>\n      <td>Uzbekistan</td>\n      <td>2014</td>\n      <td>female</td>\n      <td>5-14 years</td>\n      <td>44</td>\n      <td>2631600</td>\n      <td>1.67</td>\n      <td>63,067,077,179</td>\n      <td>2309</td>\n      <td>Generation Z</td>\n    </tr>\n    <tr>\n      <th>27819</th>\n      <td>Uzbekistan</td>\n      <td>2014</td>\n      <td>female</td>\n      <td>55-74 years</td>\n      <td>21</td>\n      <td>1438935</td>\n      <td>1.46</td>\n      <td>63,067,077,179</td>\n      <td>2309</td>\n      <td>Boomers</td>\n    </tr>\n  </tbody>\n</table>\n<p>16008 rows × 10 columns</p>\n</div>"
     },
     "metadata": {},
     "execution_count": 120
    }
   ],
   "source": [
    "# creating a new table by copying the original dataframe\n",
    "country_df=df.copy()\n",
    "country_df"
   ]
  },
  {
   "cell_type": "code",
   "execution_count": 121,
   "metadata": {},
   "outputs": [
    {
     "output_type": "execute_result",
     "data": {
      "text/plain": [
       "country                object\n",
       "year                    int64\n",
       "sex                    object\n",
       "age                    object\n",
       "suicides_no             int64\n",
       "population              int64\n",
       "suicides/100k pop     float64\n",
       " gdp_for_year ($)      object\n",
       "gdp_per_capita ($)      int64\n",
       "generation             object\n",
       "dtype: object"
      ]
     },
     "metadata": {},
     "execution_count": 121
    }
   ],
   "source": [
    "country_df.dtypes\n"
   ]
  },
  {
   "cell_type": "code",
   "execution_count": 122,
   "metadata": {},
   "outputs": [
    {
     "output_type": "execute_result",
     "data": {
      "text/plain": [
       "          country  year  population  gdp_for_year ($)   gdp_per_capita ($)\n",
       "132       Albania  2000      232000      3,632,043,908                1299\n",
       "133       Albania  2000      177400      3,632,043,908                1299\n",
       "134       Albania  2000       37800      3,632,043,908                1299\n",
       "135       Albania  2000       24900      3,632,043,908                1299\n",
       "136       Albania  2000      263900      3,632,043,908                1299\n",
       "...           ...   ...         ...                ...                 ...\n",
       "27815  Uzbekistan  2014     3620833     63,067,077,179                2309\n",
       "27816  Uzbekistan  2014      348465     63,067,077,179                2309\n",
       "27817  Uzbekistan  2014     2762158     63,067,077,179                2309\n",
       "27818  Uzbekistan  2014     2631600     63,067,077,179                2309\n",
       "27819  Uzbekistan  2014     1438935     63,067,077,179                2309\n",
       "\n",
       "[16008 rows x 5 columns]"
      ],
      "text/html": "<div>\n<style scoped>\n    .dataframe tbody tr th:only-of-type {\n        vertical-align: middle;\n    }\n\n    .dataframe tbody tr th {\n        vertical-align: top;\n    }\n\n    .dataframe thead th {\n        text-align: right;\n    }\n</style>\n<table border=\"1\" class=\"dataframe\">\n  <thead>\n    <tr style=\"text-align: right;\">\n      <th></th>\n      <th>country</th>\n      <th>year</th>\n      <th>population</th>\n      <th>gdp_for_year ($)</th>\n      <th>gdp_per_capita ($)</th>\n    </tr>\n  </thead>\n  <tbody>\n    <tr>\n      <th>132</th>\n      <td>Albania</td>\n      <td>2000</td>\n      <td>232000</td>\n      <td>3,632,043,908</td>\n      <td>1299</td>\n    </tr>\n    <tr>\n      <th>133</th>\n      <td>Albania</td>\n      <td>2000</td>\n      <td>177400</td>\n      <td>3,632,043,908</td>\n      <td>1299</td>\n    </tr>\n    <tr>\n      <th>134</th>\n      <td>Albania</td>\n      <td>2000</td>\n      <td>37800</td>\n      <td>3,632,043,908</td>\n      <td>1299</td>\n    </tr>\n    <tr>\n      <th>135</th>\n      <td>Albania</td>\n      <td>2000</td>\n      <td>24900</td>\n      <td>3,632,043,908</td>\n      <td>1299</td>\n    </tr>\n    <tr>\n      <th>136</th>\n      <td>Albania</td>\n      <td>2000</td>\n      <td>263900</td>\n      <td>3,632,043,908</td>\n      <td>1299</td>\n    </tr>\n    <tr>\n      <th>...</th>\n      <td>...</td>\n      <td>...</td>\n      <td>...</td>\n      <td>...</td>\n      <td>...</td>\n    </tr>\n    <tr>\n      <th>27815</th>\n      <td>Uzbekistan</td>\n      <td>2014</td>\n      <td>3620833</td>\n      <td>63,067,077,179</td>\n      <td>2309</td>\n    </tr>\n    <tr>\n      <th>27816</th>\n      <td>Uzbekistan</td>\n      <td>2014</td>\n      <td>348465</td>\n      <td>63,067,077,179</td>\n      <td>2309</td>\n    </tr>\n    <tr>\n      <th>27817</th>\n      <td>Uzbekistan</td>\n      <td>2014</td>\n      <td>2762158</td>\n      <td>63,067,077,179</td>\n      <td>2309</td>\n    </tr>\n    <tr>\n      <th>27818</th>\n      <td>Uzbekistan</td>\n      <td>2014</td>\n      <td>2631600</td>\n      <td>63,067,077,179</td>\n      <td>2309</td>\n    </tr>\n    <tr>\n      <th>27819</th>\n      <td>Uzbekistan</td>\n      <td>2014</td>\n      <td>1438935</td>\n      <td>63,067,077,179</td>\n      <td>2309</td>\n    </tr>\n  </tbody>\n</table>\n<p>16008 rows × 5 columns</p>\n</div>"
     },
     "metadata": {},
     "execution_count": 122
    }
   ],
   "source": [
    "# dropping all varying data\n",
    "country_df.drop(columns='sex', inplace=True)\n",
    "country_df.drop(columns='age', inplace=True)\n",
    "country_df.drop(columns='suicides_no', inplace=True)\n",
    "country_df.drop(columns='suicides/100k pop', inplace=True)\n",
    "country_df.drop(columns='generation', inplace=True)\n",
    "country_df"
   ]
  },
  {
   "cell_type": "code",
   "execution_count": 132,
   "metadata": {},
   "outputs": [
    {
     "output_type": "execute_result",
     "data": {
      "text/plain": [
       "country     year   gdp_for_year ($)   gdp_per_capita ($)\n",
       "Albania     2000  3,632,043,908       1299                   2796300\n",
       "            2001  4,060,758,804       1451                   2799349\n",
       "            2002  4,435,078,648       1573                   2818839\n",
       "            2003  5,746,945,913       2021                   2843929\n",
       "            2004  7,314,865,176       2544                   2874991\n",
       "                                                              ...   \n",
       "Uzbekistan  2010  39,332,770,929      1533                  25651783\n",
       "            2011  45,915,191,189      1767                  25978049\n",
       "            2012  51,821,573,338      1964                  26381830\n",
       "            2013  57,690,453,461      2150                  26838924\n",
       "            2014  63,067,077,179      2309                  27313507\n",
       "Name: population, Length: 1334, dtype: int64"
      ]
     },
     "metadata": {},
     "execution_count": 132
    }
   ],
   "source": [
    "#sum the population data and group by year and country\r\n",
    "country_df.groupby(['country','year', ' gdp_for_year ($) ','gdp_per_capita ($)'])['population'].sum()\r\n",
    "\r\n"
   ]
  },
  {
   "cell_type": "code",
   "execution_count": 138,
   "metadata": {},
   "outputs": [],
   "source": [
    "country_df['agg_population'] = country_df.groupby(['country','year', ' gdp_for_year ($) ','gdp_per_capita ($)'])['population'].transform('sum')\n"
   ]
  },
  {
   "cell_type": "code",
   "execution_count": 139,
   "metadata": {},
   "outputs": [
    {
     "output_type": "execute_result",
     "data": {
      "text/plain": [
       "          country  year  population  gdp_for_year ($)   gdp_per_capita ($)  \\\n",
       "132       Albania  2000      232000      3,632,043,908                1299   \n",
       "133       Albania  2000      177400      3,632,043,908                1299   \n",
       "134       Albania  2000       37800      3,632,043,908                1299   \n",
       "135       Albania  2000       24900      3,632,043,908                1299   \n",
       "136       Albania  2000      263900      3,632,043,908                1299   \n",
       "...           ...   ...         ...                ...                 ...   \n",
       "27815  Uzbekistan  2014     3620833     63,067,077,179                2309   \n",
       "27816  Uzbekistan  2014      348465     63,067,077,179                2309   \n",
       "27817  Uzbekistan  2014     2762158     63,067,077,179                2309   \n",
       "27818  Uzbekistan  2014     2631600     63,067,077,179                2309   \n",
       "27819  Uzbekistan  2014     1438935     63,067,077,179                2309   \n",
       "\n",
       "       agg_population  \n",
       "132           2796300  \n",
       "133           2796300  \n",
       "134           2796300  \n",
       "135           2796300  \n",
       "136           2796300  \n",
       "...               ...  \n",
       "27815        27313507  \n",
       "27816        27313507  \n",
       "27817        27313507  \n",
       "27818        27313507  \n",
       "27819        27313507  \n",
       "\n",
       "[16008 rows x 6 columns]"
      ],
      "text/html": "<div>\n<style scoped>\n    .dataframe tbody tr th:only-of-type {\n        vertical-align: middle;\n    }\n\n    .dataframe tbody tr th {\n        vertical-align: top;\n    }\n\n    .dataframe thead th {\n        text-align: right;\n    }\n</style>\n<table border=\"1\" class=\"dataframe\">\n  <thead>\n    <tr style=\"text-align: right;\">\n      <th></th>\n      <th>country</th>\n      <th>year</th>\n      <th>population</th>\n      <th>gdp_for_year ($)</th>\n      <th>gdp_per_capita ($)</th>\n      <th>agg_population</th>\n    </tr>\n  </thead>\n  <tbody>\n    <tr>\n      <th>132</th>\n      <td>Albania</td>\n      <td>2000</td>\n      <td>232000</td>\n      <td>3,632,043,908</td>\n      <td>1299</td>\n      <td>2796300</td>\n    </tr>\n    <tr>\n      <th>133</th>\n      <td>Albania</td>\n      <td>2000</td>\n      <td>177400</td>\n      <td>3,632,043,908</td>\n      <td>1299</td>\n      <td>2796300</td>\n    </tr>\n    <tr>\n      <th>134</th>\n      <td>Albania</td>\n      <td>2000</td>\n      <td>37800</td>\n      <td>3,632,043,908</td>\n      <td>1299</td>\n      <td>2796300</td>\n    </tr>\n    <tr>\n      <th>135</th>\n      <td>Albania</td>\n      <td>2000</td>\n      <td>24900</td>\n      <td>3,632,043,908</td>\n      <td>1299</td>\n      <td>2796300</td>\n    </tr>\n    <tr>\n      <th>136</th>\n      <td>Albania</td>\n      <td>2000</td>\n      <td>263900</td>\n      <td>3,632,043,908</td>\n      <td>1299</td>\n      <td>2796300</td>\n    </tr>\n    <tr>\n      <th>...</th>\n      <td>...</td>\n      <td>...</td>\n      <td>...</td>\n      <td>...</td>\n      <td>...</td>\n      <td>...</td>\n    </tr>\n    <tr>\n      <th>27815</th>\n      <td>Uzbekistan</td>\n      <td>2014</td>\n      <td>3620833</td>\n      <td>63,067,077,179</td>\n      <td>2309</td>\n      <td>27313507</td>\n    </tr>\n    <tr>\n      <th>27816</th>\n      <td>Uzbekistan</td>\n      <td>2014</td>\n      <td>348465</td>\n      <td>63,067,077,179</td>\n      <td>2309</td>\n      <td>27313507</td>\n    </tr>\n    <tr>\n      <th>27817</th>\n      <td>Uzbekistan</td>\n      <td>2014</td>\n      <td>2762158</td>\n      <td>63,067,077,179</td>\n      <td>2309</td>\n      <td>27313507</td>\n    </tr>\n    <tr>\n      <th>27818</th>\n      <td>Uzbekistan</td>\n      <td>2014</td>\n      <td>2631600</td>\n      <td>63,067,077,179</td>\n      <td>2309</td>\n      <td>27313507</td>\n    </tr>\n    <tr>\n      <th>27819</th>\n      <td>Uzbekistan</td>\n      <td>2014</td>\n      <td>1438935</td>\n      <td>63,067,077,179</td>\n      <td>2309</td>\n      <td>27313507</td>\n    </tr>\n  </tbody>\n</table>\n<p>16008 rows × 6 columns</p>\n</div>"
     },
     "metadata": {},
     "execution_count": 139
    }
   ],
   "source": [
    "country_df"
   ]
  },
  {
   "cell_type": "code",
   "execution_count": 140,
   "metadata": {},
   "outputs": [
    {
     "output_type": "execute_result",
     "data": {
      "text/plain": [
       "          country  year  gdp_for_year ($)   gdp_per_capita ($)  agg_population\n",
       "132       Albania  2000      3,632,043,908                1299         2796300\n",
       "133       Albania  2000      3,632,043,908                1299         2796300\n",
       "134       Albania  2000      3,632,043,908                1299         2796300\n",
       "135       Albania  2000      3,632,043,908                1299         2796300\n",
       "136       Albania  2000      3,632,043,908                1299         2796300\n",
       "...           ...   ...                ...                 ...             ...\n",
       "27815  Uzbekistan  2014     63,067,077,179                2309        27313507\n",
       "27816  Uzbekistan  2014     63,067,077,179                2309        27313507\n",
       "27817  Uzbekistan  2014     63,067,077,179                2309        27313507\n",
       "27818  Uzbekistan  2014     63,067,077,179                2309        27313507\n",
       "27819  Uzbekistan  2014     63,067,077,179                2309        27313507\n",
       "\n",
       "[16008 rows x 5 columns]"
      ],
      "text/html": "<div>\n<style scoped>\n    .dataframe tbody tr th:only-of-type {\n        vertical-align: middle;\n    }\n\n    .dataframe tbody tr th {\n        vertical-align: top;\n    }\n\n    .dataframe thead th {\n        text-align: right;\n    }\n</style>\n<table border=\"1\" class=\"dataframe\">\n  <thead>\n    <tr style=\"text-align: right;\">\n      <th></th>\n      <th>country</th>\n      <th>year</th>\n      <th>gdp_for_year ($)</th>\n      <th>gdp_per_capita ($)</th>\n      <th>agg_population</th>\n    </tr>\n  </thead>\n  <tbody>\n    <tr>\n      <th>132</th>\n      <td>Albania</td>\n      <td>2000</td>\n      <td>3,632,043,908</td>\n      <td>1299</td>\n      <td>2796300</td>\n    </tr>\n    <tr>\n      <th>133</th>\n      <td>Albania</td>\n      <td>2000</td>\n      <td>3,632,043,908</td>\n      <td>1299</td>\n      <td>2796300</td>\n    </tr>\n    <tr>\n      <th>134</th>\n      <td>Albania</td>\n      <td>2000</td>\n      <td>3,632,043,908</td>\n      <td>1299</td>\n      <td>2796300</td>\n    </tr>\n    <tr>\n      <th>135</th>\n      <td>Albania</td>\n      <td>2000</td>\n      <td>3,632,043,908</td>\n      <td>1299</td>\n      <td>2796300</td>\n    </tr>\n    <tr>\n      <th>136</th>\n      <td>Albania</td>\n      <td>2000</td>\n      <td>3,632,043,908</td>\n      <td>1299</td>\n      <td>2796300</td>\n    </tr>\n    <tr>\n      <th>...</th>\n      <td>...</td>\n      <td>...</td>\n      <td>...</td>\n      <td>...</td>\n      <td>...</td>\n    </tr>\n    <tr>\n      <th>27815</th>\n      <td>Uzbekistan</td>\n      <td>2014</td>\n      <td>63,067,077,179</td>\n      <td>2309</td>\n      <td>27313507</td>\n    </tr>\n    <tr>\n      <th>27816</th>\n      <td>Uzbekistan</td>\n      <td>2014</td>\n      <td>63,067,077,179</td>\n      <td>2309</td>\n      <td>27313507</td>\n    </tr>\n    <tr>\n      <th>27817</th>\n      <td>Uzbekistan</td>\n      <td>2014</td>\n      <td>63,067,077,179</td>\n      <td>2309</td>\n      <td>27313507</td>\n    </tr>\n    <tr>\n      <th>27818</th>\n      <td>Uzbekistan</td>\n      <td>2014</td>\n      <td>63,067,077,179</td>\n      <td>2309</td>\n      <td>27313507</td>\n    </tr>\n    <tr>\n      <th>27819</th>\n      <td>Uzbekistan</td>\n      <td>2014</td>\n      <td>63,067,077,179</td>\n      <td>2309</td>\n      <td>27313507</td>\n    </tr>\n  </tbody>\n</table>\n<p>16008 rows × 5 columns</p>\n</div>"
     },
     "metadata": {},
     "execution_count": 140
    }
   ],
   "source": [
    "country_df.drop(columns='population', inplace=True)\n",
    "country_df"
   ]
  },
  {
   "cell_type": "code",
   "execution_count": 147,
   "metadata": {},
   "outputs": [
    {
     "output_type": "execute_result",
     "data": {
      "text/plain": [
       "      index     country  year  gdp_for_year ($)   gdp_per_capita ($)  \\\n",
       "0       132     Albania  2000      3,632,043,908                1299   \n",
       "1       144     Albania  2001      4,060,758,804                1451   \n",
       "2       156     Albania  2002      4,435,078,648                1573   \n",
       "3       168     Albania  2003      5,746,945,913                2021   \n",
       "4       180     Albania  2004      7,314,865,176                2544   \n",
       "...     ...         ...   ...                ...                 ...   \n",
       "1329  27760  Uzbekistan  2010     39,332,770,929                1533   \n",
       "1330  27772  Uzbekistan  2011     45,915,191,189                1767   \n",
       "1331  27784  Uzbekistan  2012     51,821,573,338                1964   \n",
       "1332  27796  Uzbekistan  2013     57,690,453,461                2150   \n",
       "1333  27808  Uzbekistan  2014     63,067,077,179                2309   \n",
       "\n",
       "      agg_population  \n",
       "0            2796300  \n",
       "1            2799349  \n",
       "2            2818839  \n",
       "3            2843929  \n",
       "4            2874991  \n",
       "...              ...  \n",
       "1329        25651783  \n",
       "1330        25978049  \n",
       "1331        26381830  \n",
       "1332        26838924  \n",
       "1333        27313507  \n",
       "\n",
       "[1334 rows x 6 columns]"
      ],
      "text/html": "<div>\n<style scoped>\n    .dataframe tbody tr th:only-of-type {\n        vertical-align: middle;\n    }\n\n    .dataframe tbody tr th {\n        vertical-align: top;\n    }\n\n    .dataframe thead th {\n        text-align: right;\n    }\n</style>\n<table border=\"1\" class=\"dataframe\">\n  <thead>\n    <tr style=\"text-align: right;\">\n      <th></th>\n      <th>index</th>\n      <th>country</th>\n      <th>year</th>\n      <th>gdp_for_year ($)</th>\n      <th>gdp_per_capita ($)</th>\n      <th>agg_population</th>\n    </tr>\n  </thead>\n  <tbody>\n    <tr>\n      <th>0</th>\n      <td>132</td>\n      <td>Albania</td>\n      <td>2000</td>\n      <td>3,632,043,908</td>\n      <td>1299</td>\n      <td>2796300</td>\n    </tr>\n    <tr>\n      <th>1</th>\n      <td>144</td>\n      <td>Albania</td>\n      <td>2001</td>\n      <td>4,060,758,804</td>\n      <td>1451</td>\n      <td>2799349</td>\n    </tr>\n    <tr>\n      <th>2</th>\n      <td>156</td>\n      <td>Albania</td>\n      <td>2002</td>\n      <td>4,435,078,648</td>\n      <td>1573</td>\n      <td>2818839</td>\n    </tr>\n    <tr>\n      <th>3</th>\n      <td>168</td>\n      <td>Albania</td>\n      <td>2003</td>\n      <td>5,746,945,913</td>\n      <td>2021</td>\n      <td>2843929</td>\n    </tr>\n    <tr>\n      <th>4</th>\n      <td>180</td>\n      <td>Albania</td>\n      <td>2004</td>\n      <td>7,314,865,176</td>\n      <td>2544</td>\n      <td>2874991</td>\n    </tr>\n    <tr>\n      <th>...</th>\n      <td>...</td>\n      <td>...</td>\n      <td>...</td>\n      <td>...</td>\n      <td>...</td>\n      <td>...</td>\n    </tr>\n    <tr>\n      <th>1329</th>\n      <td>27760</td>\n      <td>Uzbekistan</td>\n      <td>2010</td>\n      <td>39,332,770,929</td>\n      <td>1533</td>\n      <td>25651783</td>\n    </tr>\n    <tr>\n      <th>1330</th>\n      <td>27772</td>\n      <td>Uzbekistan</td>\n      <td>2011</td>\n      <td>45,915,191,189</td>\n      <td>1767</td>\n      <td>25978049</td>\n    </tr>\n    <tr>\n      <th>1331</th>\n      <td>27784</td>\n      <td>Uzbekistan</td>\n      <td>2012</td>\n      <td>51,821,573,338</td>\n      <td>1964</td>\n      <td>26381830</td>\n    </tr>\n    <tr>\n      <th>1332</th>\n      <td>27796</td>\n      <td>Uzbekistan</td>\n      <td>2013</td>\n      <td>57,690,453,461</td>\n      <td>2150</td>\n      <td>26838924</td>\n    </tr>\n    <tr>\n      <th>1333</th>\n      <td>27808</td>\n      <td>Uzbekistan</td>\n      <td>2014</td>\n      <td>63,067,077,179</td>\n      <td>2309</td>\n      <td>27313507</td>\n    </tr>\n  </tbody>\n</table>\n<p>1334 rows × 6 columns</p>\n</div>"
     },
     "metadata": {},
     "execution_count": 147
    }
   ],
   "source": [
    "country_final_df = country_df.drop_duplicates(keep='first')\n",
    "country_final_df.reset_index(inplace=True)\n",
    "country_final_df"
   ]
  },
  {
   "cell_type": "code",
   "execution_count": 148,
   "metadata": {},
   "outputs": [],
   "source": [
    "country_final_df.to_csv('country_table.csv', index=False)"
   ]
  },
  {
   "cell_type": "code",
   "execution_count": null,
   "metadata": {},
   "outputs": [],
   "source": []
  }
 ]
}