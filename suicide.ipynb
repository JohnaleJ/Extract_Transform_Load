{
 "metadata": {
  "language_info": {
   "codemirror_mode": {
    "name": "ipython",
    "version": 3
   },
   "file_extension": ".py",
   "mimetype": "text/x-python",
   "name": "python",
   "nbconvert_exporter": "python",
   "pygments_lexer": "ipython3",
   "version": "3.8.5"
  },
  "orig_nbformat": 2,
  "kernelspec": {
   "name": "python385jvsc74a57bd07dee54ed7ad46e2e610ac5d1f2b33a2e646d3f5b285777520e9e1603f976399c",
   "display_name": "Python 3.8.5 64-bit (conda)"
  }
 },
 "nbformat": 4,
 "nbformat_minor": 2,
 "cells": [
  {
   "cell_type": "code",
   "execution_count": 67,
   "metadata": {},
   "outputs": [],
   "source": [
    "# import library\n",
    "import pandas as pd\n",
    "import numpy as np\n",
    "from sqlalchemy import create_engine"
   ]
  },
  {
   "source": [
    "# Importing the source data"
   ],
   "cell_type": "markdown",
   "metadata": {}
  },
  {
   "cell_type": "code",
   "execution_count": 68,
   "metadata": {},
   "outputs": [],
   "source": [
    "suicide_file = 'master.csv'\n",
    "df=pd.read_csv(suicide_file)"
   ]
  },
  {
   "cell_type": "code",
   "execution_count": 69,
   "metadata": {},
   "outputs": [
    {
     "output_type": "execute_result",
     "data": {
      "text/plain": [
       "   country  year     sex          age  suicides_no  population  \\\n",
       "0  Albania  1987    male  15-24 years           21      312900   \n",
       "1  Albania  1987    male  35-54 years           16      308000   \n",
       "2  Albania  1987  female  15-24 years           14      289700   \n",
       "3  Albania  1987    male    75+ years            1       21800   \n",
       "4  Albania  1987    male  25-34 years            9      274300   \n",
       "\n",
       "   suicides/100k pop country-year  HDI for year  gdp_for_year ($)   \\\n",
       "0               6.71  Albania1987           NaN      2,156,624,900   \n",
       "1               5.19  Albania1987           NaN      2,156,624,900   \n",
       "2               4.83  Albania1987           NaN      2,156,624,900   \n",
       "3               4.59  Albania1987           NaN      2,156,624,900   \n",
       "4               3.28  Albania1987           NaN      2,156,624,900   \n",
       "\n",
       "   gdp_per_capita ($)       generation  \n",
       "0                 796     Generation X  \n",
       "1                 796           Silent  \n",
       "2                 796     Generation X  \n",
       "3                 796  G.I. Generation  \n",
       "4                 796          Boomers  "
      ],
      "text/html": "<div>\n<style scoped>\n    .dataframe tbody tr th:only-of-type {\n        vertical-align: middle;\n    }\n\n    .dataframe tbody tr th {\n        vertical-align: top;\n    }\n\n    .dataframe thead th {\n        text-align: right;\n    }\n</style>\n<table border=\"1\" class=\"dataframe\">\n  <thead>\n    <tr style=\"text-align: right;\">\n      <th></th>\n      <th>country</th>\n      <th>year</th>\n      <th>sex</th>\n      <th>age</th>\n      <th>suicides_no</th>\n      <th>population</th>\n      <th>suicides/100k pop</th>\n      <th>country-year</th>\n      <th>HDI for year</th>\n      <th>gdp_for_year ($)</th>\n      <th>gdp_per_capita ($)</th>\n      <th>generation</th>\n    </tr>\n  </thead>\n  <tbody>\n    <tr>\n      <th>0</th>\n      <td>Albania</td>\n      <td>1987</td>\n      <td>male</td>\n      <td>15-24 years</td>\n      <td>21</td>\n      <td>312900</td>\n      <td>6.71</td>\n      <td>Albania1987</td>\n      <td>NaN</td>\n      <td>2,156,624,900</td>\n      <td>796</td>\n      <td>Generation X</td>\n    </tr>\n    <tr>\n      <th>1</th>\n      <td>Albania</td>\n      <td>1987</td>\n      <td>male</td>\n      <td>35-54 years</td>\n      <td>16</td>\n      <td>308000</td>\n      <td>5.19</td>\n      <td>Albania1987</td>\n      <td>NaN</td>\n      <td>2,156,624,900</td>\n      <td>796</td>\n      <td>Silent</td>\n    </tr>\n    <tr>\n      <th>2</th>\n      <td>Albania</td>\n      <td>1987</td>\n      <td>female</td>\n      <td>15-24 years</td>\n      <td>14</td>\n      <td>289700</td>\n      <td>4.83</td>\n      <td>Albania1987</td>\n      <td>NaN</td>\n      <td>2,156,624,900</td>\n      <td>796</td>\n      <td>Generation X</td>\n    </tr>\n    <tr>\n      <th>3</th>\n      <td>Albania</td>\n      <td>1987</td>\n      <td>male</td>\n      <td>75+ years</td>\n      <td>1</td>\n      <td>21800</td>\n      <td>4.59</td>\n      <td>Albania1987</td>\n      <td>NaN</td>\n      <td>2,156,624,900</td>\n      <td>796</td>\n      <td>G.I. Generation</td>\n    </tr>\n    <tr>\n      <th>4</th>\n      <td>Albania</td>\n      <td>1987</td>\n      <td>male</td>\n      <td>25-34 years</td>\n      <td>9</td>\n      <td>274300</td>\n      <td>3.28</td>\n      <td>Albania1987</td>\n      <td>NaN</td>\n      <td>2,156,624,900</td>\n      <td>796</td>\n      <td>Boomers</td>\n    </tr>\n  </tbody>\n</table>\n</div>"
     },
     "metadata": {},
     "execution_count": 69
    }
   ],
   "source": [
    "df.head()"
   ]
  },
  {
   "cell_type": "code",
   "execution_count": 70,
   "metadata": {},
   "outputs": [
    {
     "output_type": "execute_result",
     "data": {
      "text/plain": [
       "     country  year     sex          age  suicides_no  population  \\\n",
       "132  Albania  2000    male  25-34 years           17      232000   \n",
       "133  Albania  2000    male  55-74 years           10      177400   \n",
       "134  Albania  2000  female    75+ years            2       37800   \n",
       "135  Albania  2000    male    75+ years            1       24900   \n",
       "136  Albania  2000  female  15-24 years            6      263900   \n",
       "\n",
       "     suicides/100k pop  gdp_for_year ($)   gdp_per_capita ($)       generation  \n",
       "132               7.33      3,632,043,908                1299     Generation X  \n",
       "133               5.64      3,632,043,908                1299           Silent  \n",
       "134               5.29      3,632,043,908                1299  G.I. Generation  \n",
       "135               4.02      3,632,043,908                1299  G.I. Generation  \n",
       "136               2.27      3,632,043,908                1299     Generation X  "
      ],
      "text/html": "<div>\n<style scoped>\n    .dataframe tbody tr th:only-of-type {\n        vertical-align: middle;\n    }\n\n    .dataframe tbody tr th {\n        vertical-align: top;\n    }\n\n    .dataframe thead th {\n        text-align: right;\n    }\n</style>\n<table border=\"1\" class=\"dataframe\">\n  <thead>\n    <tr style=\"text-align: right;\">\n      <th></th>\n      <th>country</th>\n      <th>year</th>\n      <th>sex</th>\n      <th>age</th>\n      <th>suicides_no</th>\n      <th>population</th>\n      <th>suicides/100k pop</th>\n      <th>gdp_for_year ($)</th>\n      <th>gdp_per_capita ($)</th>\n      <th>generation</th>\n    </tr>\n  </thead>\n  <tbody>\n    <tr>\n      <th>132</th>\n      <td>Albania</td>\n      <td>2000</td>\n      <td>male</td>\n      <td>25-34 years</td>\n      <td>17</td>\n      <td>232000</td>\n      <td>7.33</td>\n      <td>3,632,043,908</td>\n      <td>1299</td>\n      <td>Generation X</td>\n    </tr>\n    <tr>\n      <th>133</th>\n      <td>Albania</td>\n      <td>2000</td>\n      <td>male</td>\n      <td>55-74 years</td>\n      <td>10</td>\n      <td>177400</td>\n      <td>5.64</td>\n      <td>3,632,043,908</td>\n      <td>1299</td>\n      <td>Silent</td>\n    </tr>\n    <tr>\n      <th>134</th>\n      <td>Albania</td>\n      <td>2000</td>\n      <td>female</td>\n      <td>75+ years</td>\n      <td>2</td>\n      <td>37800</td>\n      <td>5.29</td>\n      <td>3,632,043,908</td>\n      <td>1299</td>\n      <td>G.I. Generation</td>\n    </tr>\n    <tr>\n      <th>135</th>\n      <td>Albania</td>\n      <td>2000</td>\n      <td>male</td>\n      <td>75+ years</td>\n      <td>1</td>\n      <td>24900</td>\n      <td>4.02</td>\n      <td>3,632,043,908</td>\n      <td>1299</td>\n      <td>G.I. Generation</td>\n    </tr>\n    <tr>\n      <th>136</th>\n      <td>Albania</td>\n      <td>2000</td>\n      <td>female</td>\n      <td>15-24 years</td>\n      <td>6</td>\n      <td>263900</td>\n      <td>2.27</td>\n      <td>3,632,043,908</td>\n      <td>1299</td>\n      <td>Generation X</td>\n    </tr>\n  </tbody>\n</table>\n</div>"
     },
     "metadata": {},
     "execution_count": 70
    }
   ],
   "source": [
    "# Drop column country-year\n",
    "df.drop(columns='country-year', inplace=True)\n",
    "# Drop column HDI for year\n",
    "df.drop(columns='HDI for year', inplace=True)\n",
    "# Drop null values\n",
    "df.dropna(how='any', inplace=True)\n",
    "# Drop or filter the rows to only include years 2000 through 2015 (referenced https://stackoverflow.com/questions/13851535/how-to-delete-rows-from-a-pandas-dataframe-based-on-a-conditional-expression)\n",
    "df.drop(df[(df.year < 2000) | (df.year > 2015)].index, inplace=True)\n",
    "# check the dataframe structure\n",
    "df.head()\n",
    "\n"
   ]
  },
  {
   "cell_type": "code",
   "execution_count": 71,
   "metadata": {},
   "outputs": [
    {
     "output_type": "execute_result",
     "data": {
      "text/plain": [
       "(16008, 10)"
      ]
     },
     "metadata": {},
     "execution_count": 71
    }
   ],
   "source": [
    "df.shape\n"
   ]
  },
  {
   "source": [
    "# write dataframe to a new csv\n"
   ],
   "cell_type": "markdown",
   "metadata": {}
  },
  {
   "cell_type": "code",
   "execution_count": 72,
   "metadata": {},
   "outputs": [],
   "source": [
    "df.to_csv('suicide_clean.csv', index=False)"
   ]
  },
  {
   "cell_type": "code",
   "execution_count": 74,
   "metadata": {},
   "outputs": [
    {
     "output_type": "execute_result",
     "data": {
      "text/plain": [
       "                 suicides_no  population  suicides/100k pop  \\\n",
       "country    year                                               \n",
       "Albania    2000           54     2796300              30.70   \n",
       "           2001          119     2799349              50.62   \n",
       "           2002          133     2818839              62.51   \n",
       "           2003          124     2843929              58.60   \n",
       "           2004          146     2874991              65.39   \n",
       "...                      ...         ...                ...   \n",
       "Uzbekistan 2010         1464    25651783              63.23   \n",
       "           2011         1640    25978049              67.14   \n",
       "           2012         1835    26381830              77.53   \n",
       "           2013         1950    26838924              78.86   \n",
       "           2014         2095    27313507              85.12   \n",
       "\n",
       "                 gdp_per_capita ($)  \n",
       "country    year                      \n",
       "Albania    2000               15588  \n",
       "           2001               17412  \n",
       "           2002               18876  \n",
       "           2003               24252  \n",
       "           2004               30528  \n",
       "...                             ...  \n",
       "Uzbekistan 2010               18396  \n",
       "           2011               21204  \n",
       "           2012               23568  \n",
       "           2013               25800  \n",
       "           2014               27708  \n",
       "\n",
       "[1334 rows x 4 columns]"
      ],
      "text/html": "<div>\n<style scoped>\n    .dataframe tbody tr th:only-of-type {\n        vertical-align: middle;\n    }\n\n    .dataframe tbody tr th {\n        vertical-align: top;\n    }\n\n    .dataframe thead th {\n        text-align: right;\n    }\n</style>\n<table border=\"1\" class=\"dataframe\">\n  <thead>\n    <tr style=\"text-align: right;\">\n      <th></th>\n      <th></th>\n      <th>suicides_no</th>\n      <th>population</th>\n      <th>suicides/100k pop</th>\n      <th>gdp_per_capita ($)</th>\n    </tr>\n    <tr>\n      <th>country</th>\n      <th>year</th>\n      <th></th>\n      <th></th>\n      <th></th>\n      <th></th>\n    </tr>\n  </thead>\n  <tbody>\n    <tr>\n      <th rowspan=\"5\" valign=\"top\">Albania</th>\n      <th>2000</th>\n      <td>54</td>\n      <td>2796300</td>\n      <td>30.70</td>\n      <td>15588</td>\n    </tr>\n    <tr>\n      <th>2001</th>\n      <td>119</td>\n      <td>2799349</td>\n      <td>50.62</td>\n      <td>17412</td>\n    </tr>\n    <tr>\n      <th>2002</th>\n      <td>133</td>\n      <td>2818839</td>\n      <td>62.51</td>\n      <td>18876</td>\n    </tr>\n    <tr>\n      <th>2003</th>\n      <td>124</td>\n      <td>2843929</td>\n      <td>58.60</td>\n      <td>24252</td>\n    </tr>\n    <tr>\n      <th>2004</th>\n      <td>146</td>\n      <td>2874991</td>\n      <td>65.39</td>\n      <td>30528</td>\n    </tr>\n    <tr>\n      <th>...</th>\n      <th>...</th>\n      <td>...</td>\n      <td>...</td>\n      <td>...</td>\n      <td>...</td>\n    </tr>\n    <tr>\n      <th rowspan=\"5\" valign=\"top\">Uzbekistan</th>\n      <th>2010</th>\n      <td>1464</td>\n      <td>25651783</td>\n      <td>63.23</td>\n      <td>18396</td>\n    </tr>\n    <tr>\n      <th>2011</th>\n      <td>1640</td>\n      <td>25978049</td>\n      <td>67.14</td>\n      <td>21204</td>\n    </tr>\n    <tr>\n      <th>2012</th>\n      <td>1835</td>\n      <td>26381830</td>\n      <td>77.53</td>\n      <td>23568</td>\n    </tr>\n    <tr>\n      <th>2013</th>\n      <td>1950</td>\n      <td>26838924</td>\n      <td>78.86</td>\n      <td>25800</td>\n    </tr>\n    <tr>\n      <th>2014</th>\n      <td>2095</td>\n      <td>27313507</td>\n      <td>85.12</td>\n      <td>27708</td>\n    </tr>\n  </tbody>\n</table>\n<p>1334 rows × 4 columns</p>\n</div>"
     },
     "metadata": {},
     "execution_count": 74
    }
   ],
   "source": [
    "df.groupby(['country', 'year']).sum()"
   ]
  },
  {
   "cell_type": "code",
   "execution_count": 75,
   "metadata": {},
   "outputs": [],
   "source": [
    "df.to_csv('suicide_aggregated.csv', index=False)"
   ]
  },
  {
   "cell_type": "code",
   "execution_count": null,
   "metadata": {},
   "outputs": [],
   "source": []
  }
 ]
}