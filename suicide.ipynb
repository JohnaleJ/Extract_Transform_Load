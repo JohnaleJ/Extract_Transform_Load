{
 "metadata": {
  "language_info": {
   "codemirror_mode": {
    "name": "ipython",
    "version": 3
   },
   "file_extension": ".py",
   "mimetype": "text/x-python",
   "name": "python",
   "nbconvert_exporter": "python",
   "pygments_lexer": "ipython3",
   "version": "3.8.5"
  },
  "orig_nbformat": 2,
  "kernelspec": {
   "name": "python385jvsc74a57bd07dee54ed7ad46e2e610ac5d1f2b33a2e646d3f5b285777520e9e1603f976399c",
   "display_name": "Python 3.8.5 64-bit (conda)"
  }
 },
 "nbformat": 4,
 "nbformat_minor": 2,
 "cells": [
  {
   "cell_type": "code",
   "execution_count": 348,
   "metadata": {},
   "outputs": [],
   "source": [
    "# import library\n",
    "import pandas as pd\n",
    "import numpy as np\n",
    "from sqlalchemy import create_engine"
   ]
  },
  {
   "source": [
    "# Importing the source data"
   ],
   "cell_type": "markdown",
   "metadata": {}
  },
  {
   "cell_type": "code",
   "execution_count": 349,
   "metadata": {},
   "outputs": [],
   "source": [
    "suicide_file = 'master.csv'\n",
    "df=pd.read_csv(suicide_file)"
   ]
  },
  {
   "cell_type": "code",
   "execution_count": 350,
   "metadata": {},
   "outputs": [
    {
     "output_type": "execute_result",
     "data": {
      "text/plain": [
       "   country  year     sex          age  suicides_no  population  \\\n",
       "0  Albania  1987    male  15-24 years           21      312900   \n",
       "1  Albania  1987    male  35-54 years           16      308000   \n",
       "2  Albania  1987  female  15-24 years           14      289700   \n",
       "3  Albania  1987    male    75+ years            1       21800   \n",
       "4  Albania  1987    male  25-34 years            9      274300   \n",
       "\n",
       "   suicides/100k pop country-year  HDI for year  gdp_for_year ($)   \\\n",
       "0               6.71  Albania1987           NaN      2,156,624,900   \n",
       "1               5.19  Albania1987           NaN      2,156,624,900   \n",
       "2               4.83  Albania1987           NaN      2,156,624,900   \n",
       "3               4.59  Albania1987           NaN      2,156,624,900   \n",
       "4               3.28  Albania1987           NaN      2,156,624,900   \n",
       "\n",
       "   gdp_per_capita ($)       generation  \n",
       "0                 796     Generation X  \n",
       "1                 796           Silent  \n",
       "2                 796     Generation X  \n",
       "3                 796  G.I. Generation  \n",
       "4                 796          Boomers  "
      ],
      "text/html": "<div>\n<style scoped>\n    .dataframe tbody tr th:only-of-type {\n        vertical-align: middle;\n    }\n\n    .dataframe tbody tr th {\n        vertical-align: top;\n    }\n\n    .dataframe thead th {\n        text-align: right;\n    }\n</style>\n<table border=\"1\" class=\"dataframe\">\n  <thead>\n    <tr style=\"text-align: right;\">\n      <th></th>\n      <th>country</th>\n      <th>year</th>\n      <th>sex</th>\n      <th>age</th>\n      <th>suicides_no</th>\n      <th>population</th>\n      <th>suicides/100k pop</th>\n      <th>country-year</th>\n      <th>HDI for year</th>\n      <th>gdp_for_year ($)</th>\n      <th>gdp_per_capita ($)</th>\n      <th>generation</th>\n    </tr>\n  </thead>\n  <tbody>\n    <tr>\n      <th>0</th>\n      <td>Albania</td>\n      <td>1987</td>\n      <td>male</td>\n      <td>15-24 years</td>\n      <td>21</td>\n      <td>312900</td>\n      <td>6.71</td>\n      <td>Albania1987</td>\n      <td>NaN</td>\n      <td>2,156,624,900</td>\n      <td>796</td>\n      <td>Generation X</td>\n    </tr>\n    <tr>\n      <th>1</th>\n      <td>Albania</td>\n      <td>1987</td>\n      <td>male</td>\n      <td>35-54 years</td>\n      <td>16</td>\n      <td>308000</td>\n      <td>5.19</td>\n      <td>Albania1987</td>\n      <td>NaN</td>\n      <td>2,156,624,900</td>\n      <td>796</td>\n      <td>Silent</td>\n    </tr>\n    <tr>\n      <th>2</th>\n      <td>Albania</td>\n      <td>1987</td>\n      <td>female</td>\n      <td>15-24 years</td>\n      <td>14</td>\n      <td>289700</td>\n      <td>4.83</td>\n      <td>Albania1987</td>\n      <td>NaN</td>\n      <td>2,156,624,900</td>\n      <td>796</td>\n      <td>Generation X</td>\n    </tr>\n    <tr>\n      <th>3</th>\n      <td>Albania</td>\n      <td>1987</td>\n      <td>male</td>\n      <td>75+ years</td>\n      <td>1</td>\n      <td>21800</td>\n      <td>4.59</td>\n      <td>Albania1987</td>\n      <td>NaN</td>\n      <td>2,156,624,900</td>\n      <td>796</td>\n      <td>G.I. Generation</td>\n    </tr>\n    <tr>\n      <th>4</th>\n      <td>Albania</td>\n      <td>1987</td>\n      <td>male</td>\n      <td>25-34 years</td>\n      <td>9</td>\n      <td>274300</td>\n      <td>3.28</td>\n      <td>Albania1987</td>\n      <td>NaN</td>\n      <td>2,156,624,900</td>\n      <td>796</td>\n      <td>Boomers</td>\n    </tr>\n  </tbody>\n</table>\n</div>"
     },
     "metadata": {},
     "execution_count": 350
    }
   ],
   "source": [
    "df.head()"
   ]
  },
  {
   "cell_type": "code",
   "execution_count": 351,
   "metadata": {},
   "outputs": [
    {
     "output_type": "execute_result",
     "data": {
      "text/plain": [
       "country                object\n",
       "year                    int64\n",
       "sex                    object\n",
       "age                    object\n",
       "suicides_no             int64\n",
       "population              int64\n",
       "suicides/100k pop     float64\n",
       "country-year           object\n",
       "HDI for year          float64\n",
       " gdp_for_year ($)      object\n",
       "gdp_per_capita ($)      int64\n",
       "generation             object\n",
       "dtype: object"
      ]
     },
     "metadata": {},
     "execution_count": 351
    }
   ],
   "source": [
    "df.dtypes"
   ]
  },
  {
   "cell_type": "code",
   "execution_count": 352,
   "metadata": {},
   "outputs": [
    {
     "output_type": "execute_result",
     "data": {
      "text/plain": [
       "     country  year     sex          age  suicides_no  population  \\\n",
       "132  Albania  2000    male  25-34 years           17      232000   \n",
       "133  Albania  2000    male  55-74 years           10      177400   \n",
       "134  Albania  2000  female    75+ years            2       37800   \n",
       "135  Albania  2000    male    75+ years            1       24900   \n",
       "136  Albania  2000  female  15-24 years            6      263900   \n",
       "\n",
       "     suicides_100k_pop   gdp_for_year  gdp_per_capita       generation  \n",
       "132               7.33  3,632,043,908            1299     Generation X  \n",
       "133               5.64  3,632,043,908            1299           Silent  \n",
       "134               5.29  3,632,043,908            1299  G.I. Generation  \n",
       "135               4.02  3,632,043,908            1299  G.I. Generation  \n",
       "136               2.27  3,632,043,908            1299     Generation X  "
      ],
      "text/html": "<div>\n<style scoped>\n    .dataframe tbody tr th:only-of-type {\n        vertical-align: middle;\n    }\n\n    .dataframe tbody tr th {\n        vertical-align: top;\n    }\n\n    .dataframe thead th {\n        text-align: right;\n    }\n</style>\n<table border=\"1\" class=\"dataframe\">\n  <thead>\n    <tr style=\"text-align: right;\">\n      <th></th>\n      <th>country</th>\n      <th>year</th>\n      <th>sex</th>\n      <th>age</th>\n      <th>suicides_no</th>\n      <th>population</th>\n      <th>suicides_100k_pop</th>\n      <th>gdp_for_year</th>\n      <th>gdp_per_capita</th>\n      <th>generation</th>\n    </tr>\n  </thead>\n  <tbody>\n    <tr>\n      <th>132</th>\n      <td>Albania</td>\n      <td>2000</td>\n      <td>male</td>\n      <td>25-34 years</td>\n      <td>17</td>\n      <td>232000</td>\n      <td>7.33</td>\n      <td>3,632,043,908</td>\n      <td>1299</td>\n      <td>Generation X</td>\n    </tr>\n    <tr>\n      <th>133</th>\n      <td>Albania</td>\n      <td>2000</td>\n      <td>male</td>\n      <td>55-74 years</td>\n      <td>10</td>\n      <td>177400</td>\n      <td>5.64</td>\n      <td>3,632,043,908</td>\n      <td>1299</td>\n      <td>Silent</td>\n    </tr>\n    <tr>\n      <th>134</th>\n      <td>Albania</td>\n      <td>2000</td>\n      <td>female</td>\n      <td>75+ years</td>\n      <td>2</td>\n      <td>37800</td>\n      <td>5.29</td>\n      <td>3,632,043,908</td>\n      <td>1299</td>\n      <td>G.I. Generation</td>\n    </tr>\n    <tr>\n      <th>135</th>\n      <td>Albania</td>\n      <td>2000</td>\n      <td>male</td>\n      <td>75+ years</td>\n      <td>1</td>\n      <td>24900</td>\n      <td>4.02</td>\n      <td>3,632,043,908</td>\n      <td>1299</td>\n      <td>G.I. Generation</td>\n    </tr>\n    <tr>\n      <th>136</th>\n      <td>Albania</td>\n      <td>2000</td>\n      <td>female</td>\n      <td>15-24 years</td>\n      <td>6</td>\n      <td>263900</td>\n      <td>2.27</td>\n      <td>3,632,043,908</td>\n      <td>1299</td>\n      <td>Generation X</td>\n    </tr>\n  </tbody>\n</table>\n</div>"
     },
     "metadata": {},
     "execution_count": 352
    }
   ],
   "source": [
    "# Drop column country-year\n",
    "df.drop(columns='country-year', inplace=True)\n",
    "# Drop column HDI for year\n",
    "df.drop(columns='HDI for year', inplace=True)\n",
    "# Drop null values\n",
    "df.dropna(how='any', inplace=True)\n",
    "# Drop or filter the rows to only include years 2000 through 2015 (referenced https://stackoverflow.com/questions/13851535/how-to-delete-rows-from-a-pandas-dataframe-based-on-a-conditional-expression)\n",
    "df.drop(df[(df.year < 2000) | (df.year > 2015)].index, inplace=True)\n",
    "# rename fields to be more appropriate\n",
    "df.rename(columns={'suicides/100k pop':'suicides_100k_pop',\n",
    "                          ' gdp_for_year ($) ':'gdp_for_year',\n",
    "                          'gdp_per_capita ($)':'gdp_per_capita'}, \n",
    "                 inplace=True)\n",
    "# check the dataframe structure\n",
    "df.head()\n",
    "\n"
   ]
  },
  {
   "cell_type": "code",
   "execution_count": 353,
   "metadata": {},
   "outputs": [
    {
     "output_type": "execute_result",
     "data": {
      "text/plain": [
       "(16008, 10)"
      ]
     },
     "metadata": {},
     "execution_count": 353
    }
   ],
   "source": [
    "df.shape\n"
   ]
  },
  {
   "cell_type": "code",
   "execution_count": 354,
   "metadata": {},
   "outputs": [
    {
     "output_type": "execute_result",
     "data": {
      "text/plain": [
       "       country   year    sex    age  suicides_no  population  \\\n",
       "132      False  False  False  False        False       False   \n",
       "133      False  False  False  False        False       False   \n",
       "134      False  False  False  False        False       False   \n",
       "135      False  False  False  False        False       False   \n",
       "136      False  False  False  False        False       False   \n",
       "...        ...    ...    ...    ...          ...         ...   \n",
       "27815    False  False  False  False        False       False   \n",
       "27816    False  False  False  False        False       False   \n",
       "27817    False  False  False  False        False       False   \n",
       "27818    False  False  False  False        False       False   \n",
       "27819    False  False  False  False        False       False   \n",
       "\n",
       "       suicides_100k_pop  gdp_for_year  gdp_per_capita  generation  \n",
       "132                False         False           False       False  \n",
       "133                False         False           False       False  \n",
       "134                False         False           False       False  \n",
       "135                False         False           False       False  \n",
       "136                False         False           False       False  \n",
       "...                  ...           ...             ...         ...  \n",
       "27815              False         False           False       False  \n",
       "27816              False         False           False       False  \n",
       "27817              False         False           False       False  \n",
       "27818              False         False           False       False  \n",
       "27819              False         False           False       False  \n",
       "\n",
       "[16008 rows x 10 columns]"
      ],
      "text/html": "<div>\n<style scoped>\n    .dataframe tbody tr th:only-of-type {\n        vertical-align: middle;\n    }\n\n    .dataframe tbody tr th {\n        vertical-align: top;\n    }\n\n    .dataframe thead th {\n        text-align: right;\n    }\n</style>\n<table border=\"1\" class=\"dataframe\">\n  <thead>\n    <tr style=\"text-align: right;\">\n      <th></th>\n      <th>country</th>\n      <th>year</th>\n      <th>sex</th>\n      <th>age</th>\n      <th>suicides_no</th>\n      <th>population</th>\n      <th>suicides_100k_pop</th>\n      <th>gdp_for_year</th>\n      <th>gdp_per_capita</th>\n      <th>generation</th>\n    </tr>\n  </thead>\n  <tbody>\n    <tr>\n      <th>132</th>\n      <td>False</td>\n      <td>False</td>\n      <td>False</td>\n      <td>False</td>\n      <td>False</td>\n      <td>False</td>\n      <td>False</td>\n      <td>False</td>\n      <td>False</td>\n      <td>False</td>\n    </tr>\n    <tr>\n      <th>133</th>\n      <td>False</td>\n      <td>False</td>\n      <td>False</td>\n      <td>False</td>\n      <td>False</td>\n      <td>False</td>\n      <td>False</td>\n      <td>False</td>\n      <td>False</td>\n      <td>False</td>\n    </tr>\n    <tr>\n      <th>134</th>\n      <td>False</td>\n      <td>False</td>\n      <td>False</td>\n      <td>False</td>\n      <td>False</td>\n      <td>False</td>\n      <td>False</td>\n      <td>False</td>\n      <td>False</td>\n      <td>False</td>\n    </tr>\n    <tr>\n      <th>135</th>\n      <td>False</td>\n      <td>False</td>\n      <td>False</td>\n      <td>False</td>\n      <td>False</td>\n      <td>False</td>\n      <td>False</td>\n      <td>False</td>\n      <td>False</td>\n      <td>False</td>\n    </tr>\n    <tr>\n      <th>136</th>\n      <td>False</td>\n      <td>False</td>\n      <td>False</td>\n      <td>False</td>\n      <td>False</td>\n      <td>False</td>\n      <td>False</td>\n      <td>False</td>\n      <td>False</td>\n      <td>False</td>\n    </tr>\n    <tr>\n      <th>...</th>\n      <td>...</td>\n      <td>...</td>\n      <td>...</td>\n      <td>...</td>\n      <td>...</td>\n      <td>...</td>\n      <td>...</td>\n      <td>...</td>\n      <td>...</td>\n      <td>...</td>\n    </tr>\n    <tr>\n      <th>27815</th>\n      <td>False</td>\n      <td>False</td>\n      <td>False</td>\n      <td>False</td>\n      <td>False</td>\n      <td>False</td>\n      <td>False</td>\n      <td>False</td>\n      <td>False</td>\n      <td>False</td>\n    </tr>\n    <tr>\n      <th>27816</th>\n      <td>False</td>\n      <td>False</td>\n      <td>False</td>\n      <td>False</td>\n      <td>False</td>\n      <td>False</td>\n      <td>False</td>\n      <td>False</td>\n      <td>False</td>\n      <td>False</td>\n    </tr>\n    <tr>\n      <th>27817</th>\n      <td>False</td>\n      <td>False</td>\n      <td>False</td>\n      <td>False</td>\n      <td>False</td>\n      <td>False</td>\n      <td>False</td>\n      <td>False</td>\n      <td>False</td>\n      <td>False</td>\n    </tr>\n    <tr>\n      <th>27818</th>\n      <td>False</td>\n      <td>False</td>\n      <td>False</td>\n      <td>False</td>\n      <td>False</td>\n      <td>False</td>\n      <td>False</td>\n      <td>False</td>\n      <td>False</td>\n      <td>False</td>\n    </tr>\n    <tr>\n      <th>27819</th>\n      <td>False</td>\n      <td>False</td>\n      <td>False</td>\n      <td>False</td>\n      <td>False</td>\n      <td>False</td>\n      <td>False</td>\n      <td>False</td>\n      <td>False</td>\n      <td>False</td>\n    </tr>\n  </tbody>\n</table>\n<p>16008 rows × 10 columns</p>\n</div>"
     },
     "metadata": {},
     "execution_count": 354
    }
   ],
   "source": [
    "df.isna()"
   ]
  },
  {
   "source": [
    "# write dataframe to a new csv\n"
   ],
   "cell_type": "markdown",
   "metadata": {}
  },
  {
   "cell_type": "code",
   "execution_count": 355,
   "metadata": {},
   "outputs": [],
   "source": [
    "df.to_csv('suicide_clean.csv', index=False)"
   ]
  },
  {
   "cell_type": "code",
   "execution_count": 356,
   "metadata": {},
   "outputs": [
    {
     "output_type": "execute_result",
     "data": {
      "text/plain": [
       "          country  year     sex          age  suicides_no  population  \\\n",
       "132       Albania  2000    male  25-34 years           17      232000   \n",
       "133       Albania  2000    male  55-74 years           10      177400   \n",
       "134       Albania  2000  female    75+ years            2       37800   \n",
       "135       Albania  2000    male    75+ years            1       24900   \n",
       "136       Albania  2000  female  15-24 years            6      263900   \n",
       "...           ...   ...     ...          ...          ...         ...   \n",
       "27815  Uzbekistan  2014  female  35-54 years          107     3620833   \n",
       "27816  Uzbekistan  2014  female    75+ years            9      348465   \n",
       "27817  Uzbekistan  2014    male   5-14 years           60     2762158   \n",
       "27818  Uzbekistan  2014  female   5-14 years           44     2631600   \n",
       "27819  Uzbekistan  2014  female  55-74 years           21     1438935   \n",
       "\n",
       "       suicides_100k_pop    gdp_for_year  gdp_per_capita       generation  \n",
       "132                 7.33   3,632,043,908            1299     Generation X  \n",
       "133                 5.64   3,632,043,908            1299           Silent  \n",
       "134                 5.29   3,632,043,908            1299  G.I. Generation  \n",
       "135                 4.02   3,632,043,908            1299  G.I. Generation  \n",
       "136                 2.27   3,632,043,908            1299     Generation X  \n",
       "...                  ...             ...             ...              ...  \n",
       "27815               2.96  63,067,077,179            2309     Generation X  \n",
       "27816               2.58  63,067,077,179            2309           Silent  \n",
       "27817               2.17  63,067,077,179            2309     Generation Z  \n",
       "27818               1.67  63,067,077,179            2309     Generation Z  \n",
       "27819               1.46  63,067,077,179            2309          Boomers  \n",
       "\n",
       "[16008 rows x 10 columns]"
      ],
      "text/html": "<div>\n<style scoped>\n    .dataframe tbody tr th:only-of-type {\n        vertical-align: middle;\n    }\n\n    .dataframe tbody tr th {\n        vertical-align: top;\n    }\n\n    .dataframe thead th {\n        text-align: right;\n    }\n</style>\n<table border=\"1\" class=\"dataframe\">\n  <thead>\n    <tr style=\"text-align: right;\">\n      <th></th>\n      <th>country</th>\n      <th>year</th>\n      <th>sex</th>\n      <th>age</th>\n      <th>suicides_no</th>\n      <th>population</th>\n      <th>suicides_100k_pop</th>\n      <th>gdp_for_year</th>\n      <th>gdp_per_capita</th>\n      <th>generation</th>\n    </tr>\n  </thead>\n  <tbody>\n    <tr>\n      <th>132</th>\n      <td>Albania</td>\n      <td>2000</td>\n      <td>male</td>\n      <td>25-34 years</td>\n      <td>17</td>\n      <td>232000</td>\n      <td>7.33</td>\n      <td>3,632,043,908</td>\n      <td>1299</td>\n      <td>Generation X</td>\n    </tr>\n    <tr>\n      <th>133</th>\n      <td>Albania</td>\n      <td>2000</td>\n      <td>male</td>\n      <td>55-74 years</td>\n      <td>10</td>\n      <td>177400</td>\n      <td>5.64</td>\n      <td>3,632,043,908</td>\n      <td>1299</td>\n      <td>Silent</td>\n    </tr>\n    <tr>\n      <th>134</th>\n      <td>Albania</td>\n      <td>2000</td>\n      <td>female</td>\n      <td>75+ years</td>\n      <td>2</td>\n      <td>37800</td>\n      <td>5.29</td>\n      <td>3,632,043,908</td>\n      <td>1299</td>\n      <td>G.I. Generation</td>\n    </tr>\n    <tr>\n      <th>135</th>\n      <td>Albania</td>\n      <td>2000</td>\n      <td>male</td>\n      <td>75+ years</td>\n      <td>1</td>\n      <td>24900</td>\n      <td>4.02</td>\n      <td>3,632,043,908</td>\n      <td>1299</td>\n      <td>G.I. Generation</td>\n    </tr>\n    <tr>\n      <th>136</th>\n      <td>Albania</td>\n      <td>2000</td>\n      <td>female</td>\n      <td>15-24 years</td>\n      <td>6</td>\n      <td>263900</td>\n      <td>2.27</td>\n      <td>3,632,043,908</td>\n      <td>1299</td>\n      <td>Generation X</td>\n    </tr>\n    <tr>\n      <th>...</th>\n      <td>...</td>\n      <td>...</td>\n      <td>...</td>\n      <td>...</td>\n      <td>...</td>\n      <td>...</td>\n      <td>...</td>\n      <td>...</td>\n      <td>...</td>\n      <td>...</td>\n    </tr>\n    <tr>\n      <th>27815</th>\n      <td>Uzbekistan</td>\n      <td>2014</td>\n      <td>female</td>\n      <td>35-54 years</td>\n      <td>107</td>\n      <td>3620833</td>\n      <td>2.96</td>\n      <td>63,067,077,179</td>\n      <td>2309</td>\n      <td>Generation X</td>\n    </tr>\n    <tr>\n      <th>27816</th>\n      <td>Uzbekistan</td>\n      <td>2014</td>\n      <td>female</td>\n      <td>75+ years</td>\n      <td>9</td>\n      <td>348465</td>\n      <td>2.58</td>\n      <td>63,067,077,179</td>\n      <td>2309</td>\n      <td>Silent</td>\n    </tr>\n    <tr>\n      <th>27817</th>\n      <td>Uzbekistan</td>\n      <td>2014</td>\n      <td>male</td>\n      <td>5-14 years</td>\n      <td>60</td>\n      <td>2762158</td>\n      <td>2.17</td>\n      <td>63,067,077,179</td>\n      <td>2309</td>\n      <td>Generation Z</td>\n    </tr>\n    <tr>\n      <th>27818</th>\n      <td>Uzbekistan</td>\n      <td>2014</td>\n      <td>female</td>\n      <td>5-14 years</td>\n      <td>44</td>\n      <td>2631600</td>\n      <td>1.67</td>\n      <td>63,067,077,179</td>\n      <td>2309</td>\n      <td>Generation Z</td>\n    </tr>\n    <tr>\n      <th>27819</th>\n      <td>Uzbekistan</td>\n      <td>2014</td>\n      <td>female</td>\n      <td>55-74 years</td>\n      <td>21</td>\n      <td>1438935</td>\n      <td>1.46</td>\n      <td>63,067,077,179</td>\n      <td>2309</td>\n      <td>Boomers</td>\n    </tr>\n  </tbody>\n</table>\n<p>16008 rows × 10 columns</p>\n</div>"
     },
     "metadata": {},
     "execution_count": 356
    }
   ],
   "source": [
    "# creating a new table by copying the original dataframe\n",
    "suicide_df=df.copy()\n",
    "suicide_df"
   ]
  },
  {
   "cell_type": "code",
   "execution_count": 357,
   "metadata": {},
   "outputs": [
    {
     "output_type": "execute_result",
     "data": {
      "text/plain": [
       "country               object\n",
       "year                   int64\n",
       "sex                   object\n",
       "age                   object\n",
       "suicides_no            int64\n",
       "population             int64\n",
       "suicides_100k_pop    float64\n",
       "gdp_for_year          object\n",
       "gdp_per_capita         int64\n",
       "generation            object\n",
       "dtype: object"
      ]
     },
     "metadata": {},
     "execution_count": 357
    }
   ],
   "source": [
    "# checking column names and data types\n",
    "suicide_df.dtypes"
   ]
  },
  {
   "cell_type": "code",
   "execution_count": 358,
   "metadata": {},
   "outputs": [
    {
     "output_type": "execute_result",
     "data": {
      "text/plain": [
       "          country  year     sex          age  suicides_no  suicides_100k_pop  \\\n",
       "132       Albania  2000    male  25-34 years           17               7.33   \n",
       "133       Albania  2000    male  55-74 years           10               5.64   \n",
       "134       Albania  2000  female    75+ years            2               5.29   \n",
       "135       Albania  2000    male    75+ years            1               4.02   \n",
       "136       Albania  2000  female  15-24 years            6               2.27   \n",
       "...           ...   ...     ...          ...          ...                ...   \n",
       "27815  Uzbekistan  2014  female  35-54 years          107               2.96   \n",
       "27816  Uzbekistan  2014  female    75+ years            9               2.58   \n",
       "27817  Uzbekistan  2014    male   5-14 years           60               2.17   \n",
       "27818  Uzbekistan  2014  female   5-14 years           44               1.67   \n",
       "27819  Uzbekistan  2014  female  55-74 years           21               1.46   \n",
       "\n",
       "            generation  \n",
       "132       Generation X  \n",
       "133             Silent  \n",
       "134    G.I. Generation  \n",
       "135    G.I. Generation  \n",
       "136       Generation X  \n",
       "...                ...  \n",
       "27815     Generation X  \n",
       "27816           Silent  \n",
       "27817     Generation Z  \n",
       "27818     Generation Z  \n",
       "27819          Boomers  \n",
       "\n",
       "[16008 rows x 7 columns]"
      ],
      "text/html": "<div>\n<style scoped>\n    .dataframe tbody tr th:only-of-type {\n        vertical-align: middle;\n    }\n\n    .dataframe tbody tr th {\n        vertical-align: top;\n    }\n\n    .dataframe thead th {\n        text-align: right;\n    }\n</style>\n<table border=\"1\" class=\"dataframe\">\n  <thead>\n    <tr style=\"text-align: right;\">\n      <th></th>\n      <th>country</th>\n      <th>year</th>\n      <th>sex</th>\n      <th>age</th>\n      <th>suicides_no</th>\n      <th>suicides_100k_pop</th>\n      <th>generation</th>\n    </tr>\n  </thead>\n  <tbody>\n    <tr>\n      <th>132</th>\n      <td>Albania</td>\n      <td>2000</td>\n      <td>male</td>\n      <td>25-34 years</td>\n      <td>17</td>\n      <td>7.33</td>\n      <td>Generation X</td>\n    </tr>\n    <tr>\n      <th>133</th>\n      <td>Albania</td>\n      <td>2000</td>\n      <td>male</td>\n      <td>55-74 years</td>\n      <td>10</td>\n      <td>5.64</td>\n      <td>Silent</td>\n    </tr>\n    <tr>\n      <th>134</th>\n      <td>Albania</td>\n      <td>2000</td>\n      <td>female</td>\n      <td>75+ years</td>\n      <td>2</td>\n      <td>5.29</td>\n      <td>G.I. Generation</td>\n    </tr>\n    <tr>\n      <th>135</th>\n      <td>Albania</td>\n      <td>2000</td>\n      <td>male</td>\n      <td>75+ years</td>\n      <td>1</td>\n      <td>4.02</td>\n      <td>G.I. Generation</td>\n    </tr>\n    <tr>\n      <th>136</th>\n      <td>Albania</td>\n      <td>2000</td>\n      <td>female</td>\n      <td>15-24 years</td>\n      <td>6</td>\n      <td>2.27</td>\n      <td>Generation X</td>\n    </tr>\n    <tr>\n      <th>...</th>\n      <td>...</td>\n      <td>...</td>\n      <td>...</td>\n      <td>...</td>\n      <td>...</td>\n      <td>...</td>\n      <td>...</td>\n    </tr>\n    <tr>\n      <th>27815</th>\n      <td>Uzbekistan</td>\n      <td>2014</td>\n      <td>female</td>\n      <td>35-54 years</td>\n      <td>107</td>\n      <td>2.96</td>\n      <td>Generation X</td>\n    </tr>\n    <tr>\n      <th>27816</th>\n      <td>Uzbekistan</td>\n      <td>2014</td>\n      <td>female</td>\n      <td>75+ years</td>\n      <td>9</td>\n      <td>2.58</td>\n      <td>Silent</td>\n    </tr>\n    <tr>\n      <th>27817</th>\n      <td>Uzbekistan</td>\n      <td>2014</td>\n      <td>male</td>\n      <td>5-14 years</td>\n      <td>60</td>\n      <td>2.17</td>\n      <td>Generation Z</td>\n    </tr>\n    <tr>\n      <th>27818</th>\n      <td>Uzbekistan</td>\n      <td>2014</td>\n      <td>female</td>\n      <td>5-14 years</td>\n      <td>44</td>\n      <td>1.67</td>\n      <td>Generation Z</td>\n    </tr>\n    <tr>\n      <th>27819</th>\n      <td>Uzbekistan</td>\n      <td>2014</td>\n      <td>female</td>\n      <td>55-74 years</td>\n      <td>21</td>\n      <td>1.46</td>\n      <td>Boomers</td>\n    </tr>\n  </tbody>\n</table>\n<p>16008 rows × 7 columns</p>\n</div>"
     },
     "metadata": {},
     "execution_count": 358
    }
   ],
   "source": [
    "# dropping all non-varying data\n",
    "suicide_df.drop(columns='gdp_for_year'  , inplace=True)\n",
    "suicide_df.drop(columns='gdp_per_capita', inplace=True)\n",
    "suicide_df.drop(columns='population', inplace=True)\n",
    "suicide_df"
   ]
  },
  {
   "cell_type": "code",
   "execution_count": 359,
   "metadata": {},
   "outputs": [],
   "source": [
    "suicide_df.to_csv('suicide_table.csv', index=False)"
   ]
  },
  {
   "cell_type": "code",
   "execution_count": 360,
   "metadata": {},
   "outputs": [
    {
     "output_type": "execute_result",
     "data": {
      "text/plain": [
       "          country  year     sex          age  suicides_no  population  \\\n",
       "132       Albania  2000    male  25-34 years           17      232000   \n",
       "133       Albania  2000    male  55-74 years           10      177400   \n",
       "134       Albania  2000  female    75+ years            2       37800   \n",
       "135       Albania  2000    male    75+ years            1       24900   \n",
       "136       Albania  2000  female  15-24 years            6      263900   \n",
       "...           ...   ...     ...          ...          ...         ...   \n",
       "27815  Uzbekistan  2014  female  35-54 years          107     3620833   \n",
       "27816  Uzbekistan  2014  female    75+ years            9      348465   \n",
       "27817  Uzbekistan  2014    male   5-14 years           60     2762158   \n",
       "27818  Uzbekistan  2014  female   5-14 years           44     2631600   \n",
       "27819  Uzbekistan  2014  female  55-74 years           21     1438935   \n",
       "\n",
       "       suicides_100k_pop    gdp_for_year  gdp_per_capita       generation  \n",
       "132                 7.33   3,632,043,908            1299     Generation X  \n",
       "133                 5.64   3,632,043,908            1299           Silent  \n",
       "134                 5.29   3,632,043,908            1299  G.I. Generation  \n",
       "135                 4.02   3,632,043,908            1299  G.I. Generation  \n",
       "136                 2.27   3,632,043,908            1299     Generation X  \n",
       "...                  ...             ...             ...              ...  \n",
       "27815               2.96  63,067,077,179            2309     Generation X  \n",
       "27816               2.58  63,067,077,179            2309           Silent  \n",
       "27817               2.17  63,067,077,179            2309     Generation Z  \n",
       "27818               1.67  63,067,077,179            2309     Generation Z  \n",
       "27819               1.46  63,067,077,179            2309          Boomers  \n",
       "\n",
       "[16008 rows x 10 columns]"
      ],
      "text/html": "<div>\n<style scoped>\n    .dataframe tbody tr th:only-of-type {\n        vertical-align: middle;\n    }\n\n    .dataframe tbody tr th {\n        vertical-align: top;\n    }\n\n    .dataframe thead th {\n        text-align: right;\n    }\n</style>\n<table border=\"1\" class=\"dataframe\">\n  <thead>\n    <tr style=\"text-align: right;\">\n      <th></th>\n      <th>country</th>\n      <th>year</th>\n      <th>sex</th>\n      <th>age</th>\n      <th>suicides_no</th>\n      <th>population</th>\n      <th>suicides_100k_pop</th>\n      <th>gdp_for_year</th>\n      <th>gdp_per_capita</th>\n      <th>generation</th>\n    </tr>\n  </thead>\n  <tbody>\n    <tr>\n      <th>132</th>\n      <td>Albania</td>\n      <td>2000</td>\n      <td>male</td>\n      <td>25-34 years</td>\n      <td>17</td>\n      <td>232000</td>\n      <td>7.33</td>\n      <td>3,632,043,908</td>\n      <td>1299</td>\n      <td>Generation X</td>\n    </tr>\n    <tr>\n      <th>133</th>\n      <td>Albania</td>\n      <td>2000</td>\n      <td>male</td>\n      <td>55-74 years</td>\n      <td>10</td>\n      <td>177400</td>\n      <td>5.64</td>\n      <td>3,632,043,908</td>\n      <td>1299</td>\n      <td>Silent</td>\n    </tr>\n    <tr>\n      <th>134</th>\n      <td>Albania</td>\n      <td>2000</td>\n      <td>female</td>\n      <td>75+ years</td>\n      <td>2</td>\n      <td>37800</td>\n      <td>5.29</td>\n      <td>3,632,043,908</td>\n      <td>1299</td>\n      <td>G.I. Generation</td>\n    </tr>\n    <tr>\n      <th>135</th>\n      <td>Albania</td>\n      <td>2000</td>\n      <td>male</td>\n      <td>75+ years</td>\n      <td>1</td>\n      <td>24900</td>\n      <td>4.02</td>\n      <td>3,632,043,908</td>\n      <td>1299</td>\n      <td>G.I. Generation</td>\n    </tr>\n    <tr>\n      <th>136</th>\n      <td>Albania</td>\n      <td>2000</td>\n      <td>female</td>\n      <td>15-24 years</td>\n      <td>6</td>\n      <td>263900</td>\n      <td>2.27</td>\n      <td>3,632,043,908</td>\n      <td>1299</td>\n      <td>Generation X</td>\n    </tr>\n    <tr>\n      <th>...</th>\n      <td>...</td>\n      <td>...</td>\n      <td>...</td>\n      <td>...</td>\n      <td>...</td>\n      <td>...</td>\n      <td>...</td>\n      <td>...</td>\n      <td>...</td>\n      <td>...</td>\n    </tr>\n    <tr>\n      <th>27815</th>\n      <td>Uzbekistan</td>\n      <td>2014</td>\n      <td>female</td>\n      <td>35-54 years</td>\n      <td>107</td>\n      <td>3620833</td>\n      <td>2.96</td>\n      <td>63,067,077,179</td>\n      <td>2309</td>\n      <td>Generation X</td>\n    </tr>\n    <tr>\n      <th>27816</th>\n      <td>Uzbekistan</td>\n      <td>2014</td>\n      <td>female</td>\n      <td>75+ years</td>\n      <td>9</td>\n      <td>348465</td>\n      <td>2.58</td>\n      <td>63,067,077,179</td>\n      <td>2309</td>\n      <td>Silent</td>\n    </tr>\n    <tr>\n      <th>27817</th>\n      <td>Uzbekistan</td>\n      <td>2014</td>\n      <td>male</td>\n      <td>5-14 years</td>\n      <td>60</td>\n      <td>2762158</td>\n      <td>2.17</td>\n      <td>63,067,077,179</td>\n      <td>2309</td>\n      <td>Generation Z</td>\n    </tr>\n    <tr>\n      <th>27818</th>\n      <td>Uzbekistan</td>\n      <td>2014</td>\n      <td>female</td>\n      <td>5-14 years</td>\n      <td>44</td>\n      <td>2631600</td>\n      <td>1.67</td>\n      <td>63,067,077,179</td>\n      <td>2309</td>\n      <td>Generation Z</td>\n    </tr>\n    <tr>\n      <th>27819</th>\n      <td>Uzbekistan</td>\n      <td>2014</td>\n      <td>female</td>\n      <td>55-74 years</td>\n      <td>21</td>\n      <td>1438935</td>\n      <td>1.46</td>\n      <td>63,067,077,179</td>\n      <td>2309</td>\n      <td>Boomers</td>\n    </tr>\n  </tbody>\n</table>\n<p>16008 rows × 10 columns</p>\n</div>"
     },
     "metadata": {},
     "execution_count": 360
    }
   ],
   "source": [
    "# creating a new table by copying the original dataframe\n",
    "country_df=df.copy()\n",
    "country_df"
   ]
  },
  {
   "cell_type": "code",
   "execution_count": 361,
   "metadata": {},
   "outputs": [
    {
     "output_type": "execute_result",
     "data": {
      "text/plain": [
       "country               object\n",
       "year                   int64\n",
       "sex                   object\n",
       "age                   object\n",
       "suicides_no            int64\n",
       "population             int64\n",
       "suicides_100k_pop    float64\n",
       "gdp_for_year          object\n",
       "gdp_per_capita         int64\n",
       "generation            object\n",
       "dtype: object"
      ]
     },
     "metadata": {},
     "execution_count": 361
    }
   ],
   "source": [
    "country_df.dtypes\n"
   ]
  },
  {
   "cell_type": "code",
   "execution_count": 362,
   "metadata": {},
   "outputs": [
    {
     "output_type": "execute_result",
     "data": {
      "text/plain": [
       "          country  year  population    gdp_for_year  gdp_per_capita\n",
       "132       Albania  2000      232000   3,632,043,908            1299\n",
       "133       Albania  2000      177400   3,632,043,908            1299\n",
       "134       Albania  2000       37800   3,632,043,908            1299\n",
       "135       Albania  2000       24900   3,632,043,908            1299\n",
       "136       Albania  2000      263900   3,632,043,908            1299\n",
       "...           ...   ...         ...             ...             ...\n",
       "27815  Uzbekistan  2014     3620833  63,067,077,179            2309\n",
       "27816  Uzbekistan  2014      348465  63,067,077,179            2309\n",
       "27817  Uzbekistan  2014     2762158  63,067,077,179            2309\n",
       "27818  Uzbekistan  2014     2631600  63,067,077,179            2309\n",
       "27819  Uzbekistan  2014     1438935  63,067,077,179            2309\n",
       "\n",
       "[16008 rows x 5 columns]"
      ],
      "text/html": "<div>\n<style scoped>\n    .dataframe tbody tr th:only-of-type {\n        vertical-align: middle;\n    }\n\n    .dataframe tbody tr th {\n        vertical-align: top;\n    }\n\n    .dataframe thead th {\n        text-align: right;\n    }\n</style>\n<table border=\"1\" class=\"dataframe\">\n  <thead>\n    <tr style=\"text-align: right;\">\n      <th></th>\n      <th>country</th>\n      <th>year</th>\n      <th>population</th>\n      <th>gdp_for_year</th>\n      <th>gdp_per_capita</th>\n    </tr>\n  </thead>\n  <tbody>\n    <tr>\n      <th>132</th>\n      <td>Albania</td>\n      <td>2000</td>\n      <td>232000</td>\n      <td>3,632,043,908</td>\n      <td>1299</td>\n    </tr>\n    <tr>\n      <th>133</th>\n      <td>Albania</td>\n      <td>2000</td>\n      <td>177400</td>\n      <td>3,632,043,908</td>\n      <td>1299</td>\n    </tr>\n    <tr>\n      <th>134</th>\n      <td>Albania</td>\n      <td>2000</td>\n      <td>37800</td>\n      <td>3,632,043,908</td>\n      <td>1299</td>\n    </tr>\n    <tr>\n      <th>135</th>\n      <td>Albania</td>\n      <td>2000</td>\n      <td>24900</td>\n      <td>3,632,043,908</td>\n      <td>1299</td>\n    </tr>\n    <tr>\n      <th>136</th>\n      <td>Albania</td>\n      <td>2000</td>\n      <td>263900</td>\n      <td>3,632,043,908</td>\n      <td>1299</td>\n    </tr>\n    <tr>\n      <th>...</th>\n      <td>...</td>\n      <td>...</td>\n      <td>...</td>\n      <td>...</td>\n      <td>...</td>\n    </tr>\n    <tr>\n      <th>27815</th>\n      <td>Uzbekistan</td>\n      <td>2014</td>\n      <td>3620833</td>\n      <td>63,067,077,179</td>\n      <td>2309</td>\n    </tr>\n    <tr>\n      <th>27816</th>\n      <td>Uzbekistan</td>\n      <td>2014</td>\n      <td>348465</td>\n      <td>63,067,077,179</td>\n      <td>2309</td>\n    </tr>\n    <tr>\n      <th>27817</th>\n      <td>Uzbekistan</td>\n      <td>2014</td>\n      <td>2762158</td>\n      <td>63,067,077,179</td>\n      <td>2309</td>\n    </tr>\n    <tr>\n      <th>27818</th>\n      <td>Uzbekistan</td>\n      <td>2014</td>\n      <td>2631600</td>\n      <td>63,067,077,179</td>\n      <td>2309</td>\n    </tr>\n    <tr>\n      <th>27819</th>\n      <td>Uzbekistan</td>\n      <td>2014</td>\n      <td>1438935</td>\n      <td>63,067,077,179</td>\n      <td>2309</td>\n    </tr>\n  </tbody>\n</table>\n<p>16008 rows × 5 columns</p>\n</div>"
     },
     "metadata": {},
     "execution_count": 362
    }
   ],
   "source": [
    "# dropping all varying data\n",
    "country_df.drop(columns='sex', inplace=True)\n",
    "country_df.drop(columns='age', inplace=True)\n",
    "country_df.drop(columns='suicides_no', inplace=True)\n",
    "country_df.drop(columns='suicides_100k_pop', inplace=True)\n",
    "country_df.drop(columns='generation', inplace=True)\n",
    "country_df"
   ]
  },
  {
   "cell_type": "code",
   "execution_count": 363,
   "metadata": {},
   "outputs": [
    {
     "output_type": "execute_result",
     "data": {
      "text/plain": [
       "country     year  gdp_for_year    gdp_per_capita\n",
       "Albania     2000  3,632,043,908   1299               2796300\n",
       "            2001  4,060,758,804   1451               2799349\n",
       "            2002  4,435,078,648   1573               2818839\n",
       "            2003  5,746,945,913   2021               2843929\n",
       "            2004  7,314,865,176   2544               2874991\n",
       "                                                      ...   \n",
       "Uzbekistan  2010  39,332,770,929  1533              25651783\n",
       "            2011  45,915,191,189  1767              25978049\n",
       "            2012  51,821,573,338  1964              26381830\n",
       "            2013  57,690,453,461  2150              26838924\n",
       "            2014  63,067,077,179  2309              27313507\n",
       "Name: population, Length: 1334, dtype: int64"
      ]
     },
     "metadata": {},
     "execution_count": 363
    }
   ],
   "source": [
    "#sum the population data and group by year and country\n",
    "country_df.groupby(['country','year', 'gdp_for_year','gdp_per_capita'])['population'].sum()\n",
    "\n"
   ]
  },
  {
   "cell_type": "code",
   "execution_count": 364,
   "metadata": {},
   "outputs": [],
   "source": [
    "country_df['agg_population'] = country_df.groupby(['country','year', 'gdp_for_year','gdp_per_capita'])['population'].transform('sum')\n"
   ]
  },
  {
   "cell_type": "code",
   "execution_count": 365,
   "metadata": {},
   "outputs": [
    {
     "output_type": "execute_result",
     "data": {
      "text/plain": [
       "          country  year  population    gdp_for_year  gdp_per_capita  \\\n",
       "132       Albania  2000      232000   3,632,043,908            1299   \n",
       "133       Albania  2000      177400   3,632,043,908            1299   \n",
       "134       Albania  2000       37800   3,632,043,908            1299   \n",
       "135       Albania  2000       24900   3,632,043,908            1299   \n",
       "136       Albania  2000      263900   3,632,043,908            1299   \n",
       "...           ...   ...         ...             ...             ...   \n",
       "27815  Uzbekistan  2014     3620833  63,067,077,179            2309   \n",
       "27816  Uzbekistan  2014      348465  63,067,077,179            2309   \n",
       "27817  Uzbekistan  2014     2762158  63,067,077,179            2309   \n",
       "27818  Uzbekistan  2014     2631600  63,067,077,179            2309   \n",
       "27819  Uzbekistan  2014     1438935  63,067,077,179            2309   \n",
       "\n",
       "       agg_population  \n",
       "132           2796300  \n",
       "133           2796300  \n",
       "134           2796300  \n",
       "135           2796300  \n",
       "136           2796300  \n",
       "...               ...  \n",
       "27815        27313507  \n",
       "27816        27313507  \n",
       "27817        27313507  \n",
       "27818        27313507  \n",
       "27819        27313507  \n",
       "\n",
       "[16008 rows x 6 columns]"
      ],
      "text/html": "<div>\n<style scoped>\n    .dataframe tbody tr th:only-of-type {\n        vertical-align: middle;\n    }\n\n    .dataframe tbody tr th {\n        vertical-align: top;\n    }\n\n    .dataframe thead th {\n        text-align: right;\n    }\n</style>\n<table border=\"1\" class=\"dataframe\">\n  <thead>\n    <tr style=\"text-align: right;\">\n      <th></th>\n      <th>country</th>\n      <th>year</th>\n      <th>population</th>\n      <th>gdp_for_year</th>\n      <th>gdp_per_capita</th>\n      <th>agg_population</th>\n    </tr>\n  </thead>\n  <tbody>\n    <tr>\n      <th>132</th>\n      <td>Albania</td>\n      <td>2000</td>\n      <td>232000</td>\n      <td>3,632,043,908</td>\n      <td>1299</td>\n      <td>2796300</td>\n    </tr>\n    <tr>\n      <th>133</th>\n      <td>Albania</td>\n      <td>2000</td>\n      <td>177400</td>\n      <td>3,632,043,908</td>\n      <td>1299</td>\n      <td>2796300</td>\n    </tr>\n    <tr>\n      <th>134</th>\n      <td>Albania</td>\n      <td>2000</td>\n      <td>37800</td>\n      <td>3,632,043,908</td>\n      <td>1299</td>\n      <td>2796300</td>\n    </tr>\n    <tr>\n      <th>135</th>\n      <td>Albania</td>\n      <td>2000</td>\n      <td>24900</td>\n      <td>3,632,043,908</td>\n      <td>1299</td>\n      <td>2796300</td>\n    </tr>\n    <tr>\n      <th>136</th>\n      <td>Albania</td>\n      <td>2000</td>\n      <td>263900</td>\n      <td>3,632,043,908</td>\n      <td>1299</td>\n      <td>2796300</td>\n    </tr>\n    <tr>\n      <th>...</th>\n      <td>...</td>\n      <td>...</td>\n      <td>...</td>\n      <td>...</td>\n      <td>...</td>\n      <td>...</td>\n    </tr>\n    <tr>\n      <th>27815</th>\n      <td>Uzbekistan</td>\n      <td>2014</td>\n      <td>3620833</td>\n      <td>63,067,077,179</td>\n      <td>2309</td>\n      <td>27313507</td>\n    </tr>\n    <tr>\n      <th>27816</th>\n      <td>Uzbekistan</td>\n      <td>2014</td>\n      <td>348465</td>\n      <td>63,067,077,179</td>\n      <td>2309</td>\n      <td>27313507</td>\n    </tr>\n    <tr>\n      <th>27817</th>\n      <td>Uzbekistan</td>\n      <td>2014</td>\n      <td>2762158</td>\n      <td>63,067,077,179</td>\n      <td>2309</td>\n      <td>27313507</td>\n    </tr>\n    <tr>\n      <th>27818</th>\n      <td>Uzbekistan</td>\n      <td>2014</td>\n      <td>2631600</td>\n      <td>63,067,077,179</td>\n      <td>2309</td>\n      <td>27313507</td>\n    </tr>\n    <tr>\n      <th>27819</th>\n      <td>Uzbekistan</td>\n      <td>2014</td>\n      <td>1438935</td>\n      <td>63,067,077,179</td>\n      <td>2309</td>\n      <td>27313507</td>\n    </tr>\n  </tbody>\n</table>\n<p>16008 rows × 6 columns</p>\n</div>"
     },
     "metadata": {},
     "execution_count": 365
    }
   ],
   "source": [
    "country_df"
   ]
  },
  {
   "cell_type": "code",
   "execution_count": 366,
   "metadata": {},
   "outputs": [
    {
     "output_type": "execute_result",
     "data": {
      "text/plain": [
       "          country  year    gdp_for_year  gdp_per_capita  agg_population\n",
       "132       Albania  2000   3,632,043,908            1299         2796300\n",
       "133       Albania  2000   3,632,043,908            1299         2796300\n",
       "134       Albania  2000   3,632,043,908            1299         2796300\n",
       "135       Albania  2000   3,632,043,908            1299         2796300\n",
       "136       Albania  2000   3,632,043,908            1299         2796300\n",
       "...           ...   ...             ...             ...             ...\n",
       "27815  Uzbekistan  2014  63,067,077,179            2309        27313507\n",
       "27816  Uzbekistan  2014  63,067,077,179            2309        27313507\n",
       "27817  Uzbekistan  2014  63,067,077,179            2309        27313507\n",
       "27818  Uzbekistan  2014  63,067,077,179            2309        27313507\n",
       "27819  Uzbekistan  2014  63,067,077,179            2309        27313507\n",
       "\n",
       "[16008 rows x 5 columns]"
      ],
      "text/html": "<div>\n<style scoped>\n    .dataframe tbody tr th:only-of-type {\n        vertical-align: middle;\n    }\n\n    .dataframe tbody tr th {\n        vertical-align: top;\n    }\n\n    .dataframe thead th {\n        text-align: right;\n    }\n</style>\n<table border=\"1\" class=\"dataframe\">\n  <thead>\n    <tr style=\"text-align: right;\">\n      <th></th>\n      <th>country</th>\n      <th>year</th>\n      <th>gdp_for_year</th>\n      <th>gdp_per_capita</th>\n      <th>agg_population</th>\n    </tr>\n  </thead>\n  <tbody>\n    <tr>\n      <th>132</th>\n      <td>Albania</td>\n      <td>2000</td>\n      <td>3,632,043,908</td>\n      <td>1299</td>\n      <td>2796300</td>\n    </tr>\n    <tr>\n      <th>133</th>\n      <td>Albania</td>\n      <td>2000</td>\n      <td>3,632,043,908</td>\n      <td>1299</td>\n      <td>2796300</td>\n    </tr>\n    <tr>\n      <th>134</th>\n      <td>Albania</td>\n      <td>2000</td>\n      <td>3,632,043,908</td>\n      <td>1299</td>\n      <td>2796300</td>\n    </tr>\n    <tr>\n      <th>135</th>\n      <td>Albania</td>\n      <td>2000</td>\n      <td>3,632,043,908</td>\n      <td>1299</td>\n      <td>2796300</td>\n    </tr>\n    <tr>\n      <th>136</th>\n      <td>Albania</td>\n      <td>2000</td>\n      <td>3,632,043,908</td>\n      <td>1299</td>\n      <td>2796300</td>\n    </tr>\n    <tr>\n      <th>...</th>\n      <td>...</td>\n      <td>...</td>\n      <td>...</td>\n      <td>...</td>\n      <td>...</td>\n    </tr>\n    <tr>\n      <th>27815</th>\n      <td>Uzbekistan</td>\n      <td>2014</td>\n      <td>63,067,077,179</td>\n      <td>2309</td>\n      <td>27313507</td>\n    </tr>\n    <tr>\n      <th>27816</th>\n      <td>Uzbekistan</td>\n      <td>2014</td>\n      <td>63,067,077,179</td>\n      <td>2309</td>\n      <td>27313507</td>\n    </tr>\n    <tr>\n      <th>27817</th>\n      <td>Uzbekistan</td>\n      <td>2014</td>\n      <td>63,067,077,179</td>\n      <td>2309</td>\n      <td>27313507</td>\n    </tr>\n    <tr>\n      <th>27818</th>\n      <td>Uzbekistan</td>\n      <td>2014</td>\n      <td>63,067,077,179</td>\n      <td>2309</td>\n      <td>27313507</td>\n    </tr>\n    <tr>\n      <th>27819</th>\n      <td>Uzbekistan</td>\n      <td>2014</td>\n      <td>63,067,077,179</td>\n      <td>2309</td>\n      <td>27313507</td>\n    </tr>\n  </tbody>\n</table>\n<p>16008 rows × 5 columns</p>\n</div>"
     },
     "metadata": {},
     "execution_count": 366
    }
   ],
   "source": [
    "country_df.drop(columns='population', inplace=True)\n",
    "country_df"
   ]
  },
  {
   "cell_type": "code",
   "execution_count": 367,
   "metadata": {},
   "outputs": [
    {
     "output_type": "execute_result",
     "data": {
      "text/plain": [
       "      index     country  year    gdp_for_year  gdp_per_capita  agg_population\n",
       "0       132     Albania  2000   3,632,043,908            1299         2796300\n",
       "1       144     Albania  2001   4,060,758,804            1451         2799349\n",
       "2       156     Albania  2002   4,435,078,648            1573         2818839\n",
       "3       168     Albania  2003   5,746,945,913            2021         2843929\n",
       "4       180     Albania  2004   7,314,865,176            2544         2874991\n",
       "...     ...         ...   ...             ...             ...             ...\n",
       "1329  27760  Uzbekistan  2010  39,332,770,929            1533        25651783\n",
       "1330  27772  Uzbekistan  2011  45,915,191,189            1767        25978049\n",
       "1331  27784  Uzbekistan  2012  51,821,573,338            1964        26381830\n",
       "1332  27796  Uzbekistan  2013  57,690,453,461            2150        26838924\n",
       "1333  27808  Uzbekistan  2014  63,067,077,179            2309        27313507\n",
       "\n",
       "[1334 rows x 6 columns]"
      ],
      "text/html": "<div>\n<style scoped>\n    .dataframe tbody tr th:only-of-type {\n        vertical-align: middle;\n    }\n\n    .dataframe tbody tr th {\n        vertical-align: top;\n    }\n\n    .dataframe thead th {\n        text-align: right;\n    }\n</style>\n<table border=\"1\" class=\"dataframe\">\n  <thead>\n    <tr style=\"text-align: right;\">\n      <th></th>\n      <th>index</th>\n      <th>country</th>\n      <th>year</th>\n      <th>gdp_for_year</th>\n      <th>gdp_per_capita</th>\n      <th>agg_population</th>\n    </tr>\n  </thead>\n  <tbody>\n    <tr>\n      <th>0</th>\n      <td>132</td>\n      <td>Albania</td>\n      <td>2000</td>\n      <td>3,632,043,908</td>\n      <td>1299</td>\n      <td>2796300</td>\n    </tr>\n    <tr>\n      <th>1</th>\n      <td>144</td>\n      <td>Albania</td>\n      <td>2001</td>\n      <td>4,060,758,804</td>\n      <td>1451</td>\n      <td>2799349</td>\n    </tr>\n    <tr>\n      <th>2</th>\n      <td>156</td>\n      <td>Albania</td>\n      <td>2002</td>\n      <td>4,435,078,648</td>\n      <td>1573</td>\n      <td>2818839</td>\n    </tr>\n    <tr>\n      <th>3</th>\n      <td>168</td>\n      <td>Albania</td>\n      <td>2003</td>\n      <td>5,746,945,913</td>\n      <td>2021</td>\n      <td>2843929</td>\n    </tr>\n    <tr>\n      <th>4</th>\n      <td>180</td>\n      <td>Albania</td>\n      <td>2004</td>\n      <td>7,314,865,176</td>\n      <td>2544</td>\n      <td>2874991</td>\n    </tr>\n    <tr>\n      <th>...</th>\n      <td>...</td>\n      <td>...</td>\n      <td>...</td>\n      <td>...</td>\n      <td>...</td>\n      <td>...</td>\n    </tr>\n    <tr>\n      <th>1329</th>\n      <td>27760</td>\n      <td>Uzbekistan</td>\n      <td>2010</td>\n      <td>39,332,770,929</td>\n      <td>1533</td>\n      <td>25651783</td>\n    </tr>\n    <tr>\n      <th>1330</th>\n      <td>27772</td>\n      <td>Uzbekistan</td>\n      <td>2011</td>\n      <td>45,915,191,189</td>\n      <td>1767</td>\n      <td>25978049</td>\n    </tr>\n    <tr>\n      <th>1331</th>\n      <td>27784</td>\n      <td>Uzbekistan</td>\n      <td>2012</td>\n      <td>51,821,573,338</td>\n      <td>1964</td>\n      <td>26381830</td>\n    </tr>\n    <tr>\n      <th>1332</th>\n      <td>27796</td>\n      <td>Uzbekistan</td>\n      <td>2013</td>\n      <td>57,690,453,461</td>\n      <td>2150</td>\n      <td>26838924</td>\n    </tr>\n    <tr>\n      <th>1333</th>\n      <td>27808</td>\n      <td>Uzbekistan</td>\n      <td>2014</td>\n      <td>63,067,077,179</td>\n      <td>2309</td>\n      <td>27313507</td>\n    </tr>\n  </tbody>\n</table>\n<p>1334 rows × 6 columns</p>\n</div>"
     },
     "metadata": {},
     "execution_count": 367
    }
   ],
   "source": [
    "country_final_df = country_df.drop_duplicates(keep='first')\n",
    "country_final_df.reset_index(inplace=True)\n",
    "country_final_df"
   ]
  },
  {
   "cell_type": "code",
   "execution_count": 368,
   "metadata": {},
   "outputs": [],
   "source": [
    "country_final_df.to_csv('country_table.csv', index=False)"
   ]
  },
  {
   "cell_type": "code",
   "execution_count": 369,
   "metadata": {},
   "outputs": [
    {
     "output_type": "execute_result",
     "data": {
      "text/plain": [
       "country               object\n",
       "year                   int64\n",
       "sex                   object\n",
       "age                   object\n",
       "suicides_no            int64\n",
       "suicides_100k_pop    float64\n",
       "generation            object\n",
       "dtype: object"
      ]
     },
     "metadata": {},
     "execution_count": 369
    }
   ],
   "source": [
    "suicide_df.dtypes"
   ]
  },
  {
   "cell_type": "code",
   "execution_count": 370,
   "metadata": {},
   "outputs": [
    {
     "output_type": "execute_result",
     "data": {
      "text/plain": [
       "          country  year  total_suicide\n",
       "132       Albania  2000             54\n",
       "144       Albania  2001            119\n",
       "156       Albania  2002            133\n",
       "168       Albania  2003            124\n",
       "180       Albania  2004            146\n",
       "...           ...   ...            ...\n",
       "27760  Uzbekistan  2010           1464\n",
       "27772  Uzbekistan  2011           1640\n",
       "27784  Uzbekistan  2012           1835\n",
       "27796  Uzbekistan  2013           1950\n",
       "27808  Uzbekistan  2014           2095\n",
       "\n",
       "[1334 rows x 3 columns]"
      ],
      "text/html": "<div>\n<style scoped>\n    .dataframe tbody tr th:only-of-type {\n        vertical-align: middle;\n    }\n\n    .dataframe tbody tr th {\n        vertical-align: top;\n    }\n\n    .dataframe thead th {\n        text-align: right;\n    }\n</style>\n<table border=\"1\" class=\"dataframe\">\n  <thead>\n    <tr style=\"text-align: right;\">\n      <th></th>\n      <th>country</th>\n      <th>year</th>\n      <th>total_suicide</th>\n    </tr>\n  </thead>\n  <tbody>\n    <tr>\n      <th>132</th>\n      <td>Albania</td>\n      <td>2000</td>\n      <td>54</td>\n    </tr>\n    <tr>\n      <th>144</th>\n      <td>Albania</td>\n      <td>2001</td>\n      <td>119</td>\n    </tr>\n    <tr>\n      <th>156</th>\n      <td>Albania</td>\n      <td>2002</td>\n      <td>133</td>\n    </tr>\n    <tr>\n      <th>168</th>\n      <td>Albania</td>\n      <td>2003</td>\n      <td>124</td>\n    </tr>\n    <tr>\n      <th>180</th>\n      <td>Albania</td>\n      <td>2004</td>\n      <td>146</td>\n    </tr>\n    <tr>\n      <th>...</th>\n      <td>...</td>\n      <td>...</td>\n      <td>...</td>\n    </tr>\n    <tr>\n      <th>27760</th>\n      <td>Uzbekistan</td>\n      <td>2010</td>\n      <td>1464</td>\n    </tr>\n    <tr>\n      <th>27772</th>\n      <td>Uzbekistan</td>\n      <td>2011</td>\n      <td>1640</td>\n    </tr>\n    <tr>\n      <th>27784</th>\n      <td>Uzbekistan</td>\n      <td>2012</td>\n      <td>1835</td>\n    </tr>\n    <tr>\n      <th>27796</th>\n      <td>Uzbekistan</td>\n      <td>2013</td>\n      <td>1950</td>\n    </tr>\n    <tr>\n      <th>27808</th>\n      <td>Uzbekistan</td>\n      <td>2014</td>\n      <td>2095</td>\n    </tr>\n  </tbody>\n</table>\n<p>1334 rows × 3 columns</p>\n</div>"
     },
     "metadata": {},
     "execution_count": 370
    }
   ],
   "source": [
    "# Additional transformation of suicide data wanting to sum all age suicides by country and year\n",
    "suicide_by_country_df = suicide_df.copy()\n",
    "suicide_by_country_df['total_suicide'] = suicide_by_country_df.groupby(['country','year'])['suicides_no'].transform('sum')\n",
    "suicide_by_country_df.drop(columns='suicides_100k_pop', inplace=True)\n",
    "suicide_by_country_df.drop(columns='generation', inplace=True)\n",
    "suicide_by_country_df.drop(columns='age', inplace=True)\n",
    "suicide_by_country_df.drop(columns='sex', inplace=True)\n",
    "suicide_by_country_df.drop(columns='suicides_no', inplace=True)\n",
    "suicide_by_country_df = suicide_by_country_df.drop_duplicates(keep='first')\n",
    "suicide_by_country_df\n"
   ]
  },
  {
   "cell_type": "code",
   "execution_count": 371,
   "metadata": {},
   "outputs": [],
   "source": [
    "suicide_by_country_df.to_csv('suicide_by_country_table.csv', index=False)"
   ]
  },
  {
   "cell_type": "code",
   "execution_count": 372,
   "metadata": {},
   "outputs": [
    {
     "output_type": "execute_result",
     "data": {
      "text/plain": [
       "                    country  total_suicide\n",
       "132                 Albania            956\n",
       "420     Antigua and Barbuda              9\n",
       "768               Argentina          48927\n",
       "1080                Armenia            937\n",
       "1282                  Aruba             84\n",
       "...                     ...            ...\n",
       "26404  United Arab Emirates            622\n",
       "26656        United Kingdom          68815\n",
       "27028         United States         575514\n",
       "27376               Uruguay           8333\n",
       "27676            Uzbekistan          19680\n",
       "\n",
       "[97 rows x 2 columns]"
      ],
      "text/html": "<div>\n<style scoped>\n    .dataframe tbody tr th:only-of-type {\n        vertical-align: middle;\n    }\n\n    .dataframe tbody tr th {\n        vertical-align: top;\n    }\n\n    .dataframe thead th {\n        text-align: right;\n    }\n</style>\n<table border=\"1\" class=\"dataframe\">\n  <thead>\n    <tr style=\"text-align: right;\">\n      <th></th>\n      <th>country</th>\n      <th>total_suicide</th>\n    </tr>\n  </thead>\n  <tbody>\n    <tr>\n      <th>132</th>\n      <td>Albania</td>\n      <td>956</td>\n    </tr>\n    <tr>\n      <th>420</th>\n      <td>Antigua and Barbuda</td>\n      <td>9</td>\n    </tr>\n    <tr>\n      <th>768</th>\n      <td>Argentina</td>\n      <td>48927</td>\n    </tr>\n    <tr>\n      <th>1080</th>\n      <td>Armenia</td>\n      <td>937</td>\n    </tr>\n    <tr>\n      <th>1282</th>\n      <td>Aruba</td>\n      <td>84</td>\n    </tr>\n    <tr>\n      <th>...</th>\n      <td>...</td>\n      <td>...</td>\n    </tr>\n    <tr>\n      <th>26404</th>\n      <td>United Arab Emirates</td>\n      <td>622</td>\n    </tr>\n    <tr>\n      <th>26656</th>\n      <td>United Kingdom</td>\n      <td>68815</td>\n    </tr>\n    <tr>\n      <th>27028</th>\n      <td>United States</td>\n      <td>575514</td>\n    </tr>\n    <tr>\n      <th>27376</th>\n      <td>Uruguay</td>\n      <td>8333</td>\n    </tr>\n    <tr>\n      <th>27676</th>\n      <td>Uzbekistan</td>\n      <td>19680</td>\n    </tr>\n  </tbody>\n</table>\n<p>97 rows × 2 columns</p>\n</div>"
     },
     "metadata": {},
     "execution_count": 372
    }
   ],
   "source": [
    "# Additional transformation of suicide data wanting to sum all age suicides by country without regard to year\n",
    "suicide_by_country_no_year_df = suicide_df.copy()\n",
    "suicide_by_country_no_year_df['total_suicide'] = suicide_by_country_no_year_df.groupby(['country'])['suicides_no'].transform('sum')\n",
    "suicide_by_country_no_year_df.drop(columns='suicides_100k_pop', inplace=True)\n",
    "suicide_by_country_no_year_df.drop(columns='generation', inplace=True)\n",
    "suicide_by_country_no_year_df.drop(columns='age', inplace=True)\n",
    "suicide_by_country_no_year_df.drop(columns='sex', inplace=True)\n",
    "suicide_by_country_no_year_df.drop(columns='suicides_no', inplace=True)\n",
    "suicide_by_country_no_year_df.drop(columns='year', inplace=True)\n",
    "suicide_by_country_no_year_df = suicide_by_country_no_year_df.drop_duplicates(keep='first')\n",
    "suicide_by_country_no_year_df"
   ]
  },
  {
   "cell_type": "code",
   "execution_count": 373,
   "metadata": {},
   "outputs": [],
   "source": [
    "suicide_by_country_no_year_df.to_csv('suicide_by_country_no_year_df_table.csv', index=False)"
   ]
  },
  {
   "cell_type": "code",
   "execution_count": 374,
   "metadata": {},
   "outputs": [
    {
     "output_type": "execute_result",
     "data": {
      "text/plain": [
       "     year          age  total_suicide\n",
       "132  2000  25-34 years          41605\n",
       "133  2000  55-74 years          60973\n",
       "134  2000    75+ years          21633\n",
       "136  2000  15-24 years          31742\n",
       "138  2000  35-54 years          97814\n",
       "..    ...          ...            ...\n",
       "901  2011  15-24 years          27937\n",
       "902  2011  25-34 years          37936\n",
       "903  2011  55-74 years          59178\n",
       "904  2011  35-54 years          85345\n",
       "910  2011   5-14 years           1879\n",
       "\n",
       "[96 rows x 3 columns]"
      ],
      "text/html": "<div>\n<style scoped>\n    .dataframe tbody tr th:only-of-type {\n        vertical-align: middle;\n    }\n\n    .dataframe tbody tr th {\n        vertical-align: top;\n    }\n\n    .dataframe thead th {\n        text-align: right;\n    }\n</style>\n<table border=\"1\" class=\"dataframe\">\n  <thead>\n    <tr style=\"text-align: right;\">\n      <th></th>\n      <th>year</th>\n      <th>age</th>\n      <th>total_suicide</th>\n    </tr>\n  </thead>\n  <tbody>\n    <tr>\n      <th>132</th>\n      <td>2000</td>\n      <td>25-34 years</td>\n      <td>41605</td>\n    </tr>\n    <tr>\n      <th>133</th>\n      <td>2000</td>\n      <td>55-74 years</td>\n      <td>60973</td>\n    </tr>\n    <tr>\n      <th>134</th>\n      <td>2000</td>\n      <td>75+ years</td>\n      <td>21633</td>\n    </tr>\n    <tr>\n      <th>136</th>\n      <td>2000</td>\n      <td>15-24 years</td>\n      <td>31742</td>\n    </tr>\n    <tr>\n      <th>138</th>\n      <td>2000</td>\n      <td>35-54 years</td>\n      <td>97814</td>\n    </tr>\n    <tr>\n      <th>...</th>\n      <td>...</td>\n      <td>...</td>\n      <td>...</td>\n    </tr>\n    <tr>\n      <th>901</th>\n      <td>2011</td>\n      <td>15-24 years</td>\n      <td>27937</td>\n    </tr>\n    <tr>\n      <th>902</th>\n      <td>2011</td>\n      <td>25-34 years</td>\n      <td>37936</td>\n    </tr>\n    <tr>\n      <th>903</th>\n      <td>2011</td>\n      <td>55-74 years</td>\n      <td>59178</td>\n    </tr>\n    <tr>\n      <th>904</th>\n      <td>2011</td>\n      <td>35-54 years</td>\n      <td>85345</td>\n    </tr>\n    <tr>\n      <th>910</th>\n      <td>2011</td>\n      <td>5-14 years</td>\n      <td>1879</td>\n    </tr>\n  </tbody>\n</table>\n<p>96 rows × 3 columns</p>\n</div>"
     },
     "metadata": {},
     "execution_count": 374
    }
   ],
   "source": [
    "# Additional transformation of suicide data wanting to sum all suicides by age and year\n",
    "suicide_by_age_by_year_df = suicide_df.copy()\n",
    "suicide_by_age_by_year_df['total_suicide'] = suicide_by_age_by_year_df.groupby(['age','year'])['suicides_no'].transform('sum')\n",
    "suicide_by_age_by_year_df.drop(columns='suicides_100k_pop', inplace=True)\n",
    "suicide_by_age_by_year_df.drop(columns='generation', inplace=True)\n",
    "suicide_by_age_by_year_df.drop(columns='country', inplace=True)\n",
    "suicide_by_age_by_year_df.drop(columns='sex', inplace=True)\n",
    "suicide_by_age_by_year_df.drop(columns='suicides_no', inplace=True)\n",
    "suicide_by_age_by_year_df = suicide_by_age_by_year_df.drop_duplicates(keep='first')\n",
    "suicide_by_age_by_year_df"
   ]
  },
  {
   "cell_type": "code",
   "execution_count": 375,
   "metadata": {},
   "outputs": [],
   "source": [
    "suicide_by_age_by_year_df.to_csv('suicide_by_age_by_year_df_table.csv', index=False)"
   ]
  },
  {
   "cell_type": "code",
   "execution_count": 376,
   "metadata": {},
   "outputs": [
    {
     "output_type": "execute_result",
     "data": {
      "text/plain": [
       "             age  total_suicide\n",
       "132  25-34 years         607883\n",
       "133  55-74 years         932350\n",
       "134    75+ years         371493\n",
       "136  15-24 years         444777\n",
       "138  35-54 years        1408892\n",
       "141   5-14 years          29371"
      ],
      "text/html": "<div>\n<style scoped>\n    .dataframe tbody tr th:only-of-type {\n        vertical-align: middle;\n    }\n\n    .dataframe tbody tr th {\n        vertical-align: top;\n    }\n\n    .dataframe thead th {\n        text-align: right;\n    }\n</style>\n<table border=\"1\" class=\"dataframe\">\n  <thead>\n    <tr style=\"text-align: right;\">\n      <th></th>\n      <th>age</th>\n      <th>total_suicide</th>\n    </tr>\n  </thead>\n  <tbody>\n    <tr>\n      <th>132</th>\n      <td>25-34 years</td>\n      <td>607883</td>\n    </tr>\n    <tr>\n      <th>133</th>\n      <td>55-74 years</td>\n      <td>932350</td>\n    </tr>\n    <tr>\n      <th>134</th>\n      <td>75+ years</td>\n      <td>371493</td>\n    </tr>\n    <tr>\n      <th>136</th>\n      <td>15-24 years</td>\n      <td>444777</td>\n    </tr>\n    <tr>\n      <th>138</th>\n      <td>35-54 years</td>\n      <td>1408892</td>\n    </tr>\n    <tr>\n      <th>141</th>\n      <td>5-14 years</td>\n      <td>29371</td>\n    </tr>\n  </tbody>\n</table>\n</div>"
     },
     "metadata": {},
     "execution_count": 376
    }
   ],
   "source": [
    "# Additional transformation of suicide data wanting to sum all suicides by age\n",
    "suicide_by_age_df = suicide_df.copy()\n",
    "suicide_by_age_df['total_suicide'] = suicide_by_age_df.groupby(['age'])['suicides_no'].transform('sum')\n",
    "suicide_by_age_df.drop(columns='suicides_100k_pop', inplace=True)\n",
    "suicide_by_age_df.drop(columns='generation', inplace=True)\n",
    "suicide_by_age_df.drop(columns='country', inplace=True)\n",
    "suicide_by_age_df.drop(columns='sex', inplace=True)\n",
    "suicide_by_age_df.drop(columns='suicides_no', inplace=True)\n",
    "suicide_by_age_df.drop(columns='year', inplace=True)\n",
    "suicide_by_age_df = suicide_by_age_df.drop_duplicates(keep='first')\n",
    "suicide_by_age_df"
   ]
  },
  {
   "cell_type": "code",
   "execution_count": 377,
   "metadata": {},
   "outputs": [],
   "source": [
    "suicide_by_age_df.to_csv('suicide_by_age_df_table.csv', index=False)"
   ]
  },
  {
   "cell_type": "code",
   "execution_count": 378,
   "metadata": {},
   "outputs": [],
   "source": [
    "engine = create_engine('sqlite:///suicide_life_expectancy.db')"
   ]
  },
  {
   "cell_type": "code",
   "execution_count": 414,
   "metadata": {},
   "outputs": [],
   "source": [
    "Base.metadata.drop_all(engine)"
   ]
  },
  {
   "cell_type": "code",
   "execution_count": 415,
   "metadata": {},
   "outputs": [
    {
     "output_type": "execute_result",
     "data": {
      "text/plain": [
       "[]"
      ]
     },
     "metadata": {},
     "execution_count": 415
    }
   ],
   "source": [
    "engine.table_names()"
   ]
  },
  {
   "cell_type": "code",
   "execution_count": 416,
   "metadata": {},
   "outputs": [],
   "source": [
    "from sqlalchemy import Column, Integer, String, Float\n",
    "from sqlalchemy.ext.declarative import declarative_base\n",
    "Base = declarative_base()"
   ]
  },
  {
   "cell_type": "code",
   "execution_count": 417,
   "metadata": {},
   "outputs": [],
   "source": [
    "# define suicide_clean table\n",
    "class suicide_clean(Base):\n",
    "    __tablename__ = 'suicide_clean'\n",
    "    country = Column(String, primary_key=True)\n",
    "    year = Column(Float, primary_key=True)\n",
    "    sex = Column(String, primary_key=True)\n",
    "    age = Column(String, primary_key=True)\n",
    "    suicides_no = Column(Float) \n",
    "    population = Column(Float) \n",
    "    suicides_100k_pop = Column(Float) \n",
    "    gdp_for_year = Column(Float) \n",
    "    gdp_per_capita = Column(Float) \n",
    "    generation = Column(String)    "
   ]
  },
  {
   "cell_type": "code",
   "execution_count": 418,
   "metadata": {},
   "outputs": [],
   "source": [
    "Base.metadata.create_all(engine)"
   ]
  },
  {
   "cell_type": "code",
   "execution_count": 419,
   "metadata": {},
   "outputs": [],
   "source": [
    "# define suicide_table\n",
    "class suicide_table(Base):\n",
    "    __tablename__ ='suicide_table'\n",
    "    country = Column(String, primary_key=True)\n",
    "    year = Column(Float, primary_key=True) \n",
    "    sex = Column(String, primary_key=True)\n",
    "    age = Column(String, primary_key=True) \n",
    "    suicides_no = Column(Float)\n",
    "    suicides_100k_pop = Column(Float) \n",
    "    generation = Column(String)"
   ]
  },
  {
   "cell_type": "code",
   "execution_count": 420,
   "metadata": {},
   "outputs": [],
   "source": [
    "Base.metadata.create_all(engine)"
   ]
  },
  {
   "cell_type": "code",
   "execution_count": 421,
   "metadata": {},
   "outputs": [],
   "source": [
    "# define country_table\n",
    "class country_table(Base):\n",
    "    __tablename__ = 'country_table'\n",
    "    index = Column(Float, primary_key=True) \n",
    "    country = Column(String) \n",
    "    year = Column(Float) \n",
    "    gdp_for_year = Column(Float) \n",
    "    gdp_per_capita = Column(Float) \n",
    "    agg_population = Column(Float)"
   ]
  },
  {
   "cell_type": "code",
   "execution_count": 422,
   "metadata": {},
   "outputs": [],
   "source": [
    "Base.metadata.create_all(engine)"
   ]
  },
  {
   "cell_type": "code",
   "execution_count": 423,
   "metadata": {},
   "outputs": [],
   "source": [
    "# define suicide_by_country_table\n",
    "class suicide_by_country_table(Base):\n",
    "    __tablename__ = 'suicide_by_country_table'\n",
    "    country = Column(String, primary_key=True)\n",
    "    year = Column(Float, primary_key=True) \n",
    "    total_suicide = Column(Float)"
   ]
  },
  {
   "cell_type": "code",
   "execution_count": 424,
   "metadata": {},
   "outputs": [],
   "source": [
    "Base.metadata.create_all(engine)"
   ]
  },
  {
   "cell_type": "code",
   "execution_count": 425,
   "metadata": {},
   "outputs": [],
   "source": [
    "# define suicide_by_age_by_year_df_table\n",
    "class suicide_by_age_by_year_df_table(Base):\n",
    "    __tablename__ = 'suicide_by_age_by_year_df_table'\n",
    "    year = Column(Float, primary_key=True)\n",
    "    age = Column(String, primary_key=True) \n",
    "    total_suicide = Column(Float)"
   ]
  },
  {
   "cell_type": "code",
   "execution_count": 426,
   "metadata": {},
   "outputs": [],
   "source": [
    "Base.metadata.create_all(engine)"
   ]
  },
  {
   "cell_type": "code",
   "execution_count": 427,
   "metadata": {},
   "outputs": [],
   "source": [
    "# define suicide_by_age_df_table\n",
    "class suicide_by_age_df_table(Base):\n",
    "    __tablename__ = 'suicide_by_age_df_table'\n",
    "    age = Column(String, primary_key=True)\n",
    "    total_suicide = Column(Float)"
   ]
  },
  {
   "cell_type": "code",
   "execution_count": 428,
   "metadata": {},
   "outputs": [],
   "source": [
    "Base.metadata.create_all(engine)"
   ]
  },
  {
   "cell_type": "code",
   "execution_count": 429,
   "metadata": {},
   "outputs": [],
   "source": [
    "# define suicide_by_country_no_year_df_table\n",
    "class suicide_by_country_no_year_df_table(Base):\n",
    "    __tablename__ = 'suicide_by_country_no_year_df_table'\n",
    "    country = Column(String, primary_key=True)\n",
    "    total_suicide = Column(Float)"
   ]
  },
  {
   "cell_type": "code",
   "execution_count": 430,
   "metadata": {},
   "outputs": [],
   "source": [
    "Base.metadata.create_all(engine)"
   ]
  },
  {
   "cell_type": "code",
   "execution_count": 431,
   "metadata": {},
   "outputs": [
    {
     "output_type": "execute_result",
     "data": {
      "text/plain": [
       "['country_table',\n",
       " 'suicide_by_age_by_year_df_table',\n",
       " 'suicide_by_age_df_table',\n",
       " 'suicide_by_country_no_year_df_table',\n",
       " 'suicide_by_country_table',\n",
       " 'suicide_clean',\n",
       " 'suicide_table']"
      ]
     },
     "metadata": {},
     "execution_count": 431
    }
   ],
   "source": [
    "engine.table_names()"
   ]
  },
  {
   "cell_type": "code",
   "execution_count": 432,
   "metadata": {},
   "outputs": [],
   "source": [
    "df.to_sql(name='suicide_clean', con=engine, if_exists='append', index=False)\n",
    "\n"
   ]
  },
  {
   "cell_type": "code",
   "execution_count": 433,
   "metadata": {},
   "outputs": [],
   "source": [
    "suicide_df.to_sql(name='suicide_table', con=engine, if_exists='append', index=False)\n",
    "\n"
   ]
  },
  {
   "cell_type": "code",
   "execution_count": 434,
   "metadata": {},
   "outputs": [],
   "source": [
    "country_final_df.to_sql(name='country_table', con=engine, if_exists='append', index=False)\n",
    "\n"
   ]
  },
  {
   "cell_type": "code",
   "execution_count": 435,
   "metadata": {},
   "outputs": [],
   "source": [
    "suicide_by_country_df.to_sql(name='suicide_by_country_table', con=engine, if_exists='append', index=False)\n"
   ]
  },
  {
   "cell_type": "code",
   "execution_count": 436,
   "metadata": {},
   "outputs": [],
   "source": [
    "\n",
    "suicide_by_country_no_year_df.to_sql(name='suicide_by_country_no_year_df_table', con=engine, if_exists='append', index=False)\n",
    "\n"
   ]
  },
  {
   "cell_type": "code",
   "execution_count": 437,
   "metadata": {},
   "outputs": [],
   "source": [
    "suicide_by_age_df.to_sql(name='suicide_by_age_df_table', con=engine, if_exists='append', index=False)\n",
    "\n"
   ]
  },
  {
   "cell_type": "code",
   "execution_count": 438,
   "metadata": {},
   "outputs": [],
   "source": [
    "suicide_by_age_by_year_df.to_sql(name='suicide_by_age_by_year_df_table', con=engine, if_exists='append', index=False)"
   ]
  },
  {
   "cell_type": "code",
   "execution_count": 439,
   "metadata": {},
   "outputs": [],
   "source": [
    "from sqlalchemy.orm import Session\n",
    "session = Session(engine)"
   ]
  },
  {
   "cell_type": "code",
   "execution_count": 444,
   "metadata": {},
   "outputs": [
    {
     "output_type": "execute_result",
     "data": {
      "text/plain": [
       "('Albania')"
      ]
     },
     "metadata": {},
     "execution_count": 444
    }
   ],
   "source": [
    "session.query(suicide_clean.country).first()"
   ]
  },
  {
   "cell_type": "code",
   "execution_count": 445,
   "metadata": {},
   "outputs": [
    {
     "output_type": "execute_result",
     "data": {
      "text/plain": [
       "('Albania')"
      ]
     },
     "metadata": {},
     "execution_count": 445
    }
   ],
   "source": [
    "session.query(suicide_table.country).first()"
   ]
  },
  {
   "cell_type": "code",
   "execution_count": 446,
   "metadata": {},
   "outputs": [
    {
     "output_type": "execute_result",
     "data": {
      "text/plain": [
       "(132.0)"
      ]
     },
     "metadata": {},
     "execution_count": 446
    }
   ],
   "source": [
    "session.query(country_table.index).first()"
   ]
  },
  {
   "cell_type": "code",
   "execution_count": 447,
   "metadata": {},
   "outputs": [
    {
     "output_type": "execute_result",
     "data": {
      "text/plain": [
       "('Albania')"
      ]
     },
     "metadata": {},
     "execution_count": 447
    }
   ],
   "source": [
    "session.query(suicide_by_country_table.country).first()"
   ]
  },
  {
   "cell_type": "code",
   "execution_count": 448,
   "metadata": {},
   "outputs": [
    {
     "output_type": "execute_result",
     "data": {
      "text/plain": [
       "(2000.0)"
      ]
     },
     "metadata": {},
     "execution_count": 448
    }
   ],
   "source": [
    "session.query(suicide_by_age_by_year_df_table.year).first()"
   ]
  },
  {
   "cell_type": "code",
   "execution_count": 449,
   "metadata": {},
   "outputs": [
    {
     "output_type": "execute_result",
     "data": {
      "text/plain": [
       "('15-24 years')"
      ]
     },
     "metadata": {},
     "execution_count": 449
    }
   ],
   "source": [
    "session.query(suicide_by_age_df_table.age).first()"
   ]
  },
  {
   "cell_type": "code",
   "execution_count": 450,
   "metadata": {},
   "outputs": [
    {
     "output_type": "execute_result",
     "data": {
      "text/plain": [
       "('Albania')"
      ]
     },
     "metadata": {},
     "execution_count": 450
    }
   ],
   "source": [
    "session.query(suicide_by_country_no_year_df_table.country).first()"
   ]
  },
  {
   "cell_type": "code",
   "execution_count": null,
   "metadata": {},
   "outputs": [],
   "source": []
  }
 ]
}